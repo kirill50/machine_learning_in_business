{
 "cells": [
  {
   "cell_type": "markdown",
   "metadata": {},
   "source": [
    "Зачем нам вообще нужны pipelines и что это такое?\n",
    "\n",
    "\n",
    "<p align=\"center\">\n",
    "  <img src=\"https://i.imgur.com/tDMLxup.png\" alt=\"pipeline\"/>\n",
    "</p>\n",
    "\n",
    "\n",
    "В чем плюсы:\n",
    "1. вы имеете полный контроль над трансформациями данных и тем какими они попадут в вашу финальную модель\n",
    "2. весь процесс от предобработки до обучения может быть сериализован в один объект.\n",
    "3. при правильном использовании драматически может уменьшить количество строк кода."
   ]
  },
  {
   "cell_type": "code",
   "execution_count": 1,
   "metadata": {},
   "outputs": [
    {
     "data": {
      "text/html": [
       "        <script type=\"text/javascript\">\n",
       "        window.PlotlyConfig = {MathJaxConfig: 'local'};\n",
       "        if (window.MathJax) {MathJax.Hub.Config({SVG: {font: \"STIX-Web\"}});}\n",
       "        if (typeof require !== 'undefined') {\n",
       "        require.undef(\"plotly\");\n",
       "        requirejs.config({\n",
       "            paths: {\n",
       "                'plotly': ['https://cdn.plot.ly/plotly-latest.min']\n",
       "            }\n",
       "        });\n",
       "        require(['plotly'], function(Plotly) {\n",
       "            window._Plotly = Plotly;\n",
       "        });\n",
       "        }\n",
       "        </script>\n",
       "        "
      ]
     },
     "metadata": {},
     "output_type": "display_data"
    }
   ],
   "source": [
    "import pandas as pd\n",
    "import numpy as np\n",
    "import os\n",
    "import matplotlib.pyplot as plt#visualization\n",
    "from PIL import  Image\n",
    "%matplotlib inline\n",
    "import seaborn as sns#visualization\n",
    "import itertools\n",
    "import warnings\n",
    "warnings.filterwarnings(\"ignore\")\n",
    "import io\n",
    "import plotly.offline as py#visualization\n",
    "py.init_notebook_mode(connected=True)#visualization\n",
    "import plotly.graph_objs as go#visualization\n",
    "import plotly.tools as tls#visualization\n",
    "import plotly.figure_factory as ff#visualization\n",
    "\n",
    "from sklearn.model_selection import train_test_split\n",
    "from sklearn.linear_model import LogisticRegression\n",
    "from sklearn.metrics import confusion_matrix,accuracy_score,classification_report\n",
    "from sklearn.metrics import roc_auc_score,roc_curve,scorer\n",
    "from sklearn.metrics import f1_score\n",
    "import statsmodels.api as sm\n",
    "from sklearn.metrics import precision_score,recall_score\n",
    "from yellowbrick.classifier import DiscriminationThreshold\n",
    "#splitting train and test data "
   ]
  },
  {
   "cell_type": "code",
   "execution_count": 2,
   "metadata": {},
   "outputs": [
    {
     "name": "stdout",
     "output_type": "stream",
     "text": [
      "(7043, 21)\n",
      "Rows     :  7043\n",
      "Columns  :  21\n",
      "\n",
      "Features : \n",
      " ['customerID', 'gender', 'SeniorCitizen', 'Partner', 'Dependents', 'tenure', 'PhoneService', 'MultipleLines', 'InternetService', 'OnlineSecurity', 'OnlineBackup', 'DeviceProtection', 'TechSupport', 'StreamingTV', 'StreamingMovies', 'Contract', 'PaperlessBilling', 'PaymentMethod', 'MonthlyCharges', 'TotalCharges', 'Churn']\n",
      "\n",
      "Missing values :   0\n",
      "\n",
      "Unique values :  \n",
      " customerID          7043\n",
      "gender                 2\n",
      "SeniorCitizen          2\n",
      "Partner                2\n",
      "Dependents             2\n",
      "tenure                73\n",
      "PhoneService           2\n",
      "MultipleLines          3\n",
      "InternetService        3\n",
      "OnlineSecurity         3\n",
      "OnlineBackup           3\n",
      "DeviceProtection       3\n",
      "TechSupport            3\n",
      "StreamingTV            3\n",
      "StreamingMovies        3\n",
      "Contract               3\n",
      "PaperlessBilling       2\n",
      "PaymentMethod          4\n",
      "MonthlyCharges      1585\n",
      "TotalCharges        6531\n",
      "Churn                  2\n",
      "dtype: int64\n",
      "CPU times: user 45.7 ms, sys: 6.11 ms, total: 51.8 ms\n",
      "Wall time: 49.9 ms\n"
     ]
    },
    {
     "data": {
      "text/html": [
       "<div>\n",
       "<style scoped>\n",
       "    .dataframe tbody tr th:only-of-type {\n",
       "        vertical-align: middle;\n",
       "    }\n",
       "\n",
       "    .dataframe tbody tr th {\n",
       "        vertical-align: top;\n",
       "    }\n",
       "\n",
       "    .dataframe thead th {\n",
       "        text-align: right;\n",
       "    }\n",
       "</style>\n",
       "<table border=\"1\" class=\"dataframe\">\n",
       "  <thead>\n",
       "    <tr style=\"text-align: right;\">\n",
       "      <th></th>\n",
       "      <th>customerID</th>\n",
       "      <th>gender</th>\n",
       "      <th>SeniorCitizen</th>\n",
       "      <th>Partner</th>\n",
       "      <th>Dependents</th>\n",
       "      <th>tenure</th>\n",
       "      <th>PhoneService</th>\n",
       "      <th>MultipleLines</th>\n",
       "      <th>InternetService</th>\n",
       "      <th>OnlineSecurity</th>\n",
       "      <th>...</th>\n",
       "      <th>DeviceProtection</th>\n",
       "      <th>TechSupport</th>\n",
       "      <th>StreamingTV</th>\n",
       "      <th>StreamingMovies</th>\n",
       "      <th>Contract</th>\n",
       "      <th>PaperlessBilling</th>\n",
       "      <th>PaymentMethod</th>\n",
       "      <th>MonthlyCharges</th>\n",
       "      <th>TotalCharges</th>\n",
       "      <th>Churn</th>\n",
       "    </tr>\n",
       "  </thead>\n",
       "  <tbody>\n",
       "    <tr>\n",
       "      <th>0</th>\n",
       "      <td>7590-VHVEG</td>\n",
       "      <td>Female</td>\n",
       "      <td>0</td>\n",
       "      <td>Yes</td>\n",
       "      <td>No</td>\n",
       "      <td>1</td>\n",
       "      <td>No</td>\n",
       "      <td>No phone service</td>\n",
       "      <td>DSL</td>\n",
       "      <td>No</td>\n",
       "      <td>...</td>\n",
       "      <td>No</td>\n",
       "      <td>No</td>\n",
       "      <td>No</td>\n",
       "      <td>No</td>\n",
       "      <td>Month-to-month</td>\n",
       "      <td>Yes</td>\n",
       "      <td>Electronic check</td>\n",
       "      <td>29.85</td>\n",
       "      <td>29.85</td>\n",
       "      <td>No</td>\n",
       "    </tr>\n",
       "    <tr>\n",
       "      <th>1</th>\n",
       "      <td>5575-GNVDE</td>\n",
       "      <td>Male</td>\n",
       "      <td>0</td>\n",
       "      <td>No</td>\n",
       "      <td>No</td>\n",
       "      <td>34</td>\n",
       "      <td>Yes</td>\n",
       "      <td>No</td>\n",
       "      <td>DSL</td>\n",
       "      <td>Yes</td>\n",
       "      <td>...</td>\n",
       "      <td>Yes</td>\n",
       "      <td>No</td>\n",
       "      <td>No</td>\n",
       "      <td>No</td>\n",
       "      <td>One year</td>\n",
       "      <td>No</td>\n",
       "      <td>Mailed check</td>\n",
       "      <td>56.95</td>\n",
       "      <td>1889.5</td>\n",
       "      <td>No</td>\n",
       "    </tr>\n",
       "    <tr>\n",
       "      <th>2</th>\n",
       "      <td>3668-QPYBK</td>\n",
       "      <td>Male</td>\n",
       "      <td>0</td>\n",
       "      <td>No</td>\n",
       "      <td>No</td>\n",
       "      <td>2</td>\n",
       "      <td>Yes</td>\n",
       "      <td>No</td>\n",
       "      <td>DSL</td>\n",
       "      <td>Yes</td>\n",
       "      <td>...</td>\n",
       "      <td>No</td>\n",
       "      <td>No</td>\n",
       "      <td>No</td>\n",
       "      <td>No</td>\n",
       "      <td>Month-to-month</td>\n",
       "      <td>Yes</td>\n",
       "      <td>Mailed check</td>\n",
       "      <td>53.85</td>\n",
       "      <td>108.15</td>\n",
       "      <td>Yes</td>\n",
       "    </tr>\n",
       "  </tbody>\n",
       "</table>\n",
       "<p>3 rows × 21 columns</p>\n",
       "</div>"
      ],
      "text/plain": [
       "   customerID  gender  SeniorCitizen Partner Dependents  tenure PhoneService  \\\n",
       "0  7590-VHVEG  Female              0     Yes         No       1           No   \n",
       "1  5575-GNVDE    Male              0      No         No      34          Yes   \n",
       "2  3668-QPYBK    Male              0      No         No       2          Yes   \n",
       "\n",
       "      MultipleLines InternetService OnlineSecurity  ... DeviceProtection  \\\n",
       "0  No phone service             DSL             No  ...               No   \n",
       "1                No             DSL            Yes  ...              Yes   \n",
       "2                No             DSL            Yes  ...               No   \n",
       "\n",
       "  TechSupport StreamingTV StreamingMovies        Contract PaperlessBilling  \\\n",
       "0          No          No              No  Month-to-month              Yes   \n",
       "1          No          No              No        One year               No   \n",
       "2          No          No              No  Month-to-month              Yes   \n",
       "\n",
       "      PaymentMethod MonthlyCharges  TotalCharges Churn  \n",
       "0  Electronic check          29.85         29.85    No  \n",
       "1      Mailed check          56.95        1889.5    No  \n",
       "2      Mailed check          53.85        108.15   Yes  \n",
       "\n",
       "[3 rows x 21 columns]"
      ]
     },
     "execution_count": 2,
     "metadata": {},
     "output_type": "execute_result"
    }
   ],
   "source": [
    "%%time\n",
    "telcom = pd.read_csv(\"./WA_Fn-UseC_-Telco-Customer-Churn.csv\")\n",
    "print(telcom.shape)\n",
    "print (\"Rows     : \" ,telcom.shape[0])\n",
    "print (\"Columns  : \" ,telcom.shape[1])\n",
    "print (\"\\nFeatures : \\n\" ,telcom.columns.tolist())\n",
    "print (\"\\nMissing values :  \", telcom.isnull().sum().values.sum())\n",
    "print (\"\\nUnique values :  \\n\",telcom.nunique())\n",
    "telcom.head(3)"
   ]
  },
  {
   "cell_type": "markdown",
   "metadata": {},
   "source": [
    "### Preprocess and feature engineering"
   ]
  },
  {
   "cell_type": "code",
   "execution_count": 3,
   "metadata": {},
   "outputs": [],
   "source": [
    "#Data Manipulation\n",
    "\n",
    "#Replacing spaces with null values in total charges column\n",
    "telcom['TotalCharges'] = telcom[\"TotalCharges\"].replace(\" \",np.nan)\n",
    "\n",
    "#Dropping null values from total charges column which contain .15% missing data \n",
    "telcom = telcom[telcom[\"TotalCharges\"].notnull()]\n",
    "telcom = telcom.reset_index()[telcom.columns]\n",
    "\n",
    "#convert to float type\n",
    "telcom[\"TotalCharges\"] = telcom[\"TotalCharges\"].astype(float)\n",
    "\n",
    "#replace 'No internet service' to No for the following columns\n",
    "replace_cols = [ 'OnlineSecurity', 'OnlineBackup', 'DeviceProtection',\n",
    "                'TechSupport','StreamingTV', 'StreamingMovies']\n",
    "for i in replace_cols : \n",
    "    telcom[i]  = telcom[i].replace({'No internet service' : 'No'})\n",
    "    \n",
    "#replace values\n",
    "telcom[\"SeniorCitizen\"] = telcom[\"SeniorCitizen\"].replace({1:\"Yes\",0:\"No\"})\n",
    "\n",
    "#Tenure to categorical column\n",
    "def tenure_lab(telcom) :\n",
    "    \n",
    "    if telcom[\"tenure\"] <= 12 :\n",
    "        return \"Tenure_0-12\"\n",
    "    elif (telcom[\"tenure\"] > 12) & (telcom[\"tenure\"] <= 24 ):\n",
    "        return \"Tenure_12-24\"\n",
    "    elif (telcom[\"tenure\"] > 24) & (telcom[\"tenure\"] <= 48) :\n",
    "        return \"Tenure_24-48\"\n",
    "    elif (telcom[\"tenure\"] > 48) & (telcom[\"tenure\"] <= 60) :\n",
    "        return \"Tenure_48-60\"\n",
    "    elif telcom[\"tenure\"] > 60 :\n",
    "        return \"Tenure_gt_60\"\n",
    "telcom[\"tenure_group\"] = telcom.apply(lambda telcom:tenure_lab(telcom),\n",
    "                                      axis = 1)\n",
    "telcom['Churn'] = telcom['Churn'].replace({'Yes': 1, 'No': 0})\n",
    "#Separating churn and non churn customers\n",
    "churn     = telcom[telcom[\"Churn\"] == \"Yes\"]\n",
    "not_churn = telcom[telcom[\"Churn\"] == \"No\"]\n",
    "\n",
    "#Separating catagorical and numerical columns\n",
    "Id_col     = ['customerID']\n",
    "target_col = [\"Churn\"]\n",
    "cat_cols   = telcom.nunique()[telcom.nunique() < 6].keys().tolist()\n",
    "cat_cols   = [x for x in cat_cols if x not in target_col]\n",
    "num_cols   = [x for x in telcom.columns if x not in cat_cols + target_col + Id_col]"
   ]
  },
  {
   "cell_type": "code",
   "execution_count": null,
   "metadata": {},
   "outputs": [],
   "source": []
  },
  {
   "cell_type": "markdown",
   "metadata": {},
   "source": [
    "### Creating a holdout dataset (test)"
   ]
  },
  {
   "cell_type": "markdown",
   "metadata": {},
   "source": [
    "Создадим отложенную выборку, которую мы не будем трогать до самого конца"
   ]
  },
  {
   "cell_type": "code",
   "execution_count": 4,
   "metadata": {},
   "outputs": [
    {
     "data": {
      "text/html": [
       "<div>\n",
       "<style scoped>\n",
       "    .dataframe tbody tr th:only-of-type {\n",
       "        vertical-align: middle;\n",
       "    }\n",
       "\n",
       "    .dataframe tbody tr th {\n",
       "        vertical-align: top;\n",
       "    }\n",
       "\n",
       "    .dataframe thead th {\n",
       "        text-align: right;\n",
       "    }\n",
       "</style>\n",
       "<table border=\"1\" class=\"dataframe\">\n",
       "  <thead>\n",
       "    <tr style=\"text-align: right;\">\n",
       "      <th></th>\n",
       "      <th>gender</th>\n",
       "      <th>SeniorCitizen</th>\n",
       "      <th>Partner</th>\n",
       "      <th>Dependents</th>\n",
       "      <th>PhoneService</th>\n",
       "      <th>MultipleLines</th>\n",
       "      <th>InternetService</th>\n",
       "      <th>OnlineSecurity</th>\n",
       "      <th>OnlineBackup</th>\n",
       "      <th>DeviceProtection</th>\n",
       "      <th>...</th>\n",
       "      <th>StreamingTV</th>\n",
       "      <th>StreamingMovies</th>\n",
       "      <th>Contract</th>\n",
       "      <th>PaperlessBilling</th>\n",
       "      <th>PaymentMethod</th>\n",
       "      <th>tenure_group</th>\n",
       "      <th>tenure</th>\n",
       "      <th>MonthlyCharges</th>\n",
       "      <th>TotalCharges</th>\n",
       "      <th>customerID</th>\n",
       "    </tr>\n",
       "  </thead>\n",
       "  <tbody>\n",
       "    <tr>\n",
       "      <th>5758</th>\n",
       "      <td>Female</td>\n",
       "      <td>No</td>\n",
       "      <td>Yes</td>\n",
       "      <td>No</td>\n",
       "      <td>Yes</td>\n",
       "      <td>No</td>\n",
       "      <td>DSL</td>\n",
       "      <td>No</td>\n",
       "      <td>No</td>\n",
       "      <td>No</td>\n",
       "      <td>...</td>\n",
       "      <td>Yes</td>\n",
       "      <td>No</td>\n",
       "      <td>Two year</td>\n",
       "      <td>Yes</td>\n",
       "      <td>Credit card (automatic)</td>\n",
       "      <td>Tenure_gt_60</td>\n",
       "      <td>65</td>\n",
       "      <td>59.8</td>\n",
       "      <td>3808.20</td>\n",
       "      <td>1972-XMUWV</td>\n",
       "    </tr>\n",
       "    <tr>\n",
       "      <th>5352</th>\n",
       "      <td>Female</td>\n",
       "      <td>No</td>\n",
       "      <td>No</td>\n",
       "      <td>Yes</td>\n",
       "      <td>Yes</td>\n",
       "      <td>No</td>\n",
       "      <td>No</td>\n",
       "      <td>No</td>\n",
       "      <td>No</td>\n",
       "      <td>No</td>\n",
       "      <td>...</td>\n",
       "      <td>No</td>\n",
       "      <td>No</td>\n",
       "      <td>One year</td>\n",
       "      <td>Yes</td>\n",
       "      <td>Mailed check</td>\n",
       "      <td>Tenure_0-12</td>\n",
       "      <td>4</td>\n",
       "      <td>20.4</td>\n",
       "      <td>84.75</td>\n",
       "      <td>2495-TTHBQ</td>\n",
       "    </tr>\n",
       "    <tr>\n",
       "      <th>5736</th>\n",
       "      <td>Female</td>\n",
       "      <td>No</td>\n",
       "      <td>Yes</td>\n",
       "      <td>Yes</td>\n",
       "      <td>Yes</td>\n",
       "      <td>Yes</td>\n",
       "      <td>No</td>\n",
       "      <td>No</td>\n",
       "      <td>No</td>\n",
       "      <td>No</td>\n",
       "      <td>...</td>\n",
       "      <td>No</td>\n",
       "      <td>No</td>\n",
       "      <td>Two year</td>\n",
       "      <td>Yes</td>\n",
       "      <td>Mailed check</td>\n",
       "      <td>Tenure_gt_60</td>\n",
       "      <td>61</td>\n",
       "      <td>24.2</td>\n",
       "      <td>1445.20</td>\n",
       "      <td>3580-GICBM</td>\n",
       "    </tr>\n",
       "    <tr>\n",
       "      <th>6056</th>\n",
       "      <td>Male</td>\n",
       "      <td>No</td>\n",
       "      <td>No</td>\n",
       "      <td>No</td>\n",
       "      <td>Yes</td>\n",
       "      <td>Yes</td>\n",
       "      <td>No</td>\n",
       "      <td>No</td>\n",
       "      <td>No</td>\n",
       "      <td>No</td>\n",
       "      <td>...</td>\n",
       "      <td>No</td>\n",
       "      <td>No</td>\n",
       "      <td>Two year</td>\n",
       "      <td>No</td>\n",
       "      <td>Mailed check</td>\n",
       "      <td>Tenure_48-60</td>\n",
       "      <td>59</td>\n",
       "      <td>25.0</td>\n",
       "      <td>1510.50</td>\n",
       "      <td>4458-KVRBJ</td>\n",
       "    </tr>\n",
       "    <tr>\n",
       "      <th>229</th>\n",
       "      <td>Female</td>\n",
       "      <td>No</td>\n",
       "      <td>Yes</td>\n",
       "      <td>Yes</td>\n",
       "      <td>Yes</td>\n",
       "      <td>Yes</td>\n",
       "      <td>DSL</td>\n",
       "      <td>Yes</td>\n",
       "      <td>Yes</td>\n",
       "      <td>No</td>\n",
       "      <td>...</td>\n",
       "      <td>Yes</td>\n",
       "      <td>Yes</td>\n",
       "      <td>Two year</td>\n",
       "      <td>Yes</td>\n",
       "      <td>Credit card (automatic)</td>\n",
       "      <td>Tenure_24-48</td>\n",
       "      <td>47</td>\n",
       "      <td>85.3</td>\n",
       "      <td>4107.25</td>\n",
       "      <td>0945-TSONX</td>\n",
       "    </tr>\n",
       "  </tbody>\n",
       "</table>\n",
       "<p>5 rows × 21 columns</p>\n",
       "</div>"
      ],
      "text/plain": [
       "      gender SeniorCitizen Partner Dependents PhoneService MultipleLines  \\\n",
       "5758  Female            No     Yes         No          Yes            No   \n",
       "5352  Female            No      No        Yes          Yes            No   \n",
       "5736  Female            No     Yes        Yes          Yes           Yes   \n",
       "6056    Male            No      No         No          Yes           Yes   \n",
       "229   Female            No     Yes        Yes          Yes           Yes   \n",
       "\n",
       "     InternetService OnlineSecurity OnlineBackup DeviceProtection  ...  \\\n",
       "5758             DSL             No           No               No  ...   \n",
       "5352              No             No           No               No  ...   \n",
       "5736              No             No           No               No  ...   \n",
       "6056              No             No           No               No  ...   \n",
       "229              DSL            Yes          Yes               No  ...   \n",
       "\n",
       "     StreamingTV StreamingMovies  Contract PaperlessBilling  \\\n",
       "5758         Yes              No  Two year              Yes   \n",
       "5352          No              No  One year              Yes   \n",
       "5736          No              No  Two year              Yes   \n",
       "6056          No              No  Two year               No   \n",
       "229          Yes             Yes  Two year              Yes   \n",
       "\n",
       "                PaymentMethod  tenure_group tenure  MonthlyCharges  \\\n",
       "5758  Credit card (automatic)  Tenure_gt_60     65            59.8   \n",
       "5352             Mailed check   Tenure_0-12      4            20.4   \n",
       "5736             Mailed check  Tenure_gt_60     61            24.2   \n",
       "6056             Mailed check  Tenure_48-60     59            25.0   \n",
       "229   Credit card (automatic)  Tenure_24-48     47            85.3   \n",
       "\n",
       "      TotalCharges  customerID  \n",
       "5758       3808.20  1972-XMUWV  \n",
       "5352         84.75  2495-TTHBQ  \n",
       "5736       1445.20  3580-GICBM  \n",
       "6056       1510.50  4458-KVRBJ  \n",
       "229        4107.25  0945-TSONX  \n",
       "\n",
       "[5 rows x 21 columns]"
      ]
     },
     "execution_count": 4,
     "metadata": {},
     "output_type": "execute_result"
    }
   ],
   "source": [
    "from sklearn.model_selection import train_test_split\n",
    "\n",
    "features = cat_cols+num_cols\n",
    "target = 'Churn'\n",
    "\n",
    "X_train, X_test, y_train, y_test = train_test_split(telcom[features+['customerID']], \n",
    "                                                    telcom[target], test_size=0.33, random_state=42)\n",
    "#save test\n",
    "X_test.to_csv(\"X_test.csv\", index=None)\n",
    "y_test.to_csv(\"y_test.csv\", index=None)\n",
    "#save train\n",
    "X_train.to_csv(\"X_train.csv\", index=None)\n",
    "y_train.to_csv(\"y_train.csv\", index=None)\n",
    "X_train.head()"
   ]
  },
  {
   "cell_type": "markdown",
   "metadata": {},
   "source": [
    "### sklearn Transformers"
   ]
  },
  {
   "cell_type": "code",
   "execution_count": 7,
   "metadata": {},
   "outputs": [],
   "source": [
    "from sklearn.base import BaseEstimator, TransformerMixin\n",
    "\n",
    "class ColumnSelector(BaseEstimator, TransformerMixin):\n",
    "    \"\"\"\n",
    "    Transformer to select a single column from the data frame to perform additional transformations on\n",
    "    \"\"\"\n",
    "    def __init__(self, key):\n",
    "        self.key = key\n",
    "\n",
    "    def fit(self, X, y=None):\n",
    "        return self\n",
    "\n",
    "    def transform(self, X):\n",
    "        return X[self.key]\n",
    "    \n",
    "class NumberSelector(BaseEstimator, TransformerMixin):\n",
    "    \"\"\"\n",
    "    Transformer to select a single column from the data frame to perform additional transformations on\n",
    "    Use on numeric columns in the data\n",
    "    \"\"\"\n",
    "    def __init__(self, key):\n",
    "        self.key = key\n",
    "\n",
    "    def fit(self, X, y=None):\n",
    "        return self\n",
    "\n",
    "    def transform(self, X):\n",
    "        return X[[self.key]]\n",
    "    \n",
    "class OHEEncoder(BaseEstimator, TransformerMixin):\n",
    "    def __init__(self, key):\n",
    "        self.key = key\n",
    "        self.columns = []\n",
    "\n",
    "    def fit(self, X, y=None):\n",
    "        self.columns = [col for col in pd.get_dummies(X, prefix=self.key).columns]\n",
    "        return self\n",
    "\n",
    "    def transform(self, X):\n",
    "        X = pd.get_dummies(X, prefix=self.key)\n",
    "        test_columns = [col for col in X.columns]\n",
    "        for col_ in test_columns:\n",
    "            if col_ not in self.columns:\n",
    "                X[col_] = 0\n",
    "        return X[self.columns]"
   ]
  },
  {
   "cell_type": "code",
   "execution_count": null,
   "metadata": {},
   "outputs": [],
   "source": []
  },
  {
   "cell_type": "markdown",
   "metadata": {},
   "source": [
    "### Соберем наш первый пайплайн"
   ]
  },
  {
   "cell_type": "code",
   "execution_count": 8,
   "metadata": {},
   "outputs": [
    {
     "data": {
      "text/html": [
       "<div>\n",
       "<style scoped>\n",
       "    .dataframe tbody tr th:only-of-type {\n",
       "        vertical-align: middle;\n",
       "    }\n",
       "\n",
       "    .dataframe tbody tr th {\n",
       "        vertical-align: top;\n",
       "    }\n",
       "\n",
       "    .dataframe thead th {\n",
       "        text-align: right;\n",
       "    }\n",
       "</style>\n",
       "<table border=\"1\" class=\"dataframe\">\n",
       "  <thead>\n",
       "    <tr style=\"text-align: right;\">\n",
       "      <th></th>\n",
       "      <th>gender_Female</th>\n",
       "      <th>gender_Male</th>\n",
       "    </tr>\n",
       "  </thead>\n",
       "  <tbody>\n",
       "    <tr>\n",
       "      <th>5758</th>\n",
       "      <td>1</td>\n",
       "      <td>0</td>\n",
       "    </tr>\n",
       "    <tr>\n",
       "      <th>5352</th>\n",
       "      <td>1</td>\n",
       "      <td>0</td>\n",
       "    </tr>\n",
       "    <tr>\n",
       "      <th>5736</th>\n",
       "      <td>1</td>\n",
       "      <td>0</td>\n",
       "    </tr>\n",
       "    <tr>\n",
       "      <th>6056</th>\n",
       "      <td>0</td>\n",
       "      <td>1</td>\n",
       "    </tr>\n",
       "    <tr>\n",
       "      <th>229</th>\n",
       "      <td>1</td>\n",
       "      <td>0</td>\n",
       "    </tr>\n",
       "    <tr>\n",
       "      <th>...</th>\n",
       "      <td>...</td>\n",
       "      <td>...</td>\n",
       "    </tr>\n",
       "    <tr>\n",
       "      <th>3772</th>\n",
       "      <td>0</td>\n",
       "      <td>1</td>\n",
       "    </tr>\n",
       "    <tr>\n",
       "      <th>5191</th>\n",
       "      <td>1</td>\n",
       "      <td>0</td>\n",
       "    </tr>\n",
       "    <tr>\n",
       "      <th>5226</th>\n",
       "      <td>0</td>\n",
       "      <td>1</td>\n",
       "    </tr>\n",
       "    <tr>\n",
       "      <th>5390</th>\n",
       "      <td>1</td>\n",
       "      <td>0</td>\n",
       "    </tr>\n",
       "    <tr>\n",
       "      <th>860</th>\n",
       "      <td>0</td>\n",
       "      <td>1</td>\n",
       "    </tr>\n",
       "  </tbody>\n",
       "</table>\n",
       "<p>4711 rows × 2 columns</p>\n",
       "</div>"
      ],
      "text/plain": [
       "      gender_Female  gender_Male\n",
       "5758              1            0\n",
       "5352              1            0\n",
       "5736              1            0\n",
       "6056              0            1\n",
       "229               1            0\n",
       "...             ...          ...\n",
       "3772              0            1\n",
       "5191              1            0\n",
       "5226              0            1\n",
       "5390              1            0\n",
       "860               0            1\n",
       "\n",
       "[4711 rows x 2 columns]"
      ]
     },
     "execution_count": 8,
     "metadata": {},
     "output_type": "execute_result"
    }
   ],
   "source": [
    "from sklearn.pipeline import Pipeline\n",
    "\n",
    "gender = Pipeline([\n",
    "                ('selector', ColumnSelector(key='gender')),\n",
    "                ('ohe', OHEEncoder(key='gender'))\n",
    "            ])\n",
    "\n",
    "gender.fit(X_train)\n",
    "gender.transform(X_train)"
   ]
  },
  {
   "cell_type": "code",
   "execution_count": 9,
   "metadata": {},
   "outputs": [
    {
     "data": {
      "text/html": [
       "<div>\n",
       "<style scoped>\n",
       "    .dataframe tbody tr th:only-of-type {\n",
       "        vertical-align: middle;\n",
       "    }\n",
       "\n",
       "    .dataframe tbody tr th {\n",
       "        vertical-align: top;\n",
       "    }\n",
       "\n",
       "    .dataframe thead th {\n",
       "        text-align: right;\n",
       "    }\n",
       "</style>\n",
       "<table border=\"1\" class=\"dataframe\">\n",
       "  <thead>\n",
       "    <tr style=\"text-align: right;\">\n",
       "      <th></th>\n",
       "      <th>gender</th>\n",
       "      <th>SeniorCitizen</th>\n",
       "      <th>Partner</th>\n",
       "      <th>Dependents</th>\n",
       "      <th>PhoneService</th>\n",
       "      <th>MultipleLines</th>\n",
       "      <th>InternetService</th>\n",
       "      <th>OnlineSecurity</th>\n",
       "      <th>OnlineBackup</th>\n",
       "      <th>DeviceProtection</th>\n",
       "      <th>...</th>\n",
       "      <th>StreamingTV</th>\n",
       "      <th>StreamingMovies</th>\n",
       "      <th>Contract</th>\n",
       "      <th>PaperlessBilling</th>\n",
       "      <th>PaymentMethod</th>\n",
       "      <th>tenure_group</th>\n",
       "      <th>tenure</th>\n",
       "      <th>MonthlyCharges</th>\n",
       "      <th>TotalCharges</th>\n",
       "      <th>customerID</th>\n",
       "    </tr>\n",
       "  </thead>\n",
       "  <tbody>\n",
       "    <tr>\n",
       "      <th>5758</th>\n",
       "      <td>Female</td>\n",
       "      <td>No</td>\n",
       "      <td>Yes</td>\n",
       "      <td>No</td>\n",
       "      <td>Yes</td>\n",
       "      <td>No</td>\n",
       "      <td>DSL</td>\n",
       "      <td>No</td>\n",
       "      <td>No</td>\n",
       "      <td>No</td>\n",
       "      <td>...</td>\n",
       "      <td>Yes</td>\n",
       "      <td>No</td>\n",
       "      <td>Two year</td>\n",
       "      <td>Yes</td>\n",
       "      <td>Credit card (automatic)</td>\n",
       "      <td>Tenure_gt_60</td>\n",
       "      <td>65</td>\n",
       "      <td>59.8</td>\n",
       "      <td>3808.20</td>\n",
       "      <td>1972-XMUWV</td>\n",
       "    </tr>\n",
       "    <tr>\n",
       "      <th>5352</th>\n",
       "      <td>Female</td>\n",
       "      <td>No</td>\n",
       "      <td>No</td>\n",
       "      <td>Yes</td>\n",
       "      <td>Yes</td>\n",
       "      <td>No</td>\n",
       "      <td>No</td>\n",
       "      <td>No</td>\n",
       "      <td>No</td>\n",
       "      <td>No</td>\n",
       "      <td>...</td>\n",
       "      <td>No</td>\n",
       "      <td>No</td>\n",
       "      <td>One year</td>\n",
       "      <td>Yes</td>\n",
       "      <td>Mailed check</td>\n",
       "      <td>Tenure_0-12</td>\n",
       "      <td>4</td>\n",
       "      <td>20.4</td>\n",
       "      <td>84.75</td>\n",
       "      <td>2495-TTHBQ</td>\n",
       "    </tr>\n",
       "    <tr>\n",
       "      <th>5736</th>\n",
       "      <td>Female</td>\n",
       "      <td>No</td>\n",
       "      <td>Yes</td>\n",
       "      <td>Yes</td>\n",
       "      <td>Yes</td>\n",
       "      <td>Yes</td>\n",
       "      <td>No</td>\n",
       "      <td>No</td>\n",
       "      <td>No</td>\n",
       "      <td>No</td>\n",
       "      <td>...</td>\n",
       "      <td>No</td>\n",
       "      <td>No</td>\n",
       "      <td>Two year</td>\n",
       "      <td>Yes</td>\n",
       "      <td>Mailed check</td>\n",
       "      <td>Tenure_gt_60</td>\n",
       "      <td>61</td>\n",
       "      <td>24.2</td>\n",
       "      <td>1445.20</td>\n",
       "      <td>3580-GICBM</td>\n",
       "    </tr>\n",
       "  </tbody>\n",
       "</table>\n",
       "<p>3 rows × 21 columns</p>\n",
       "</div>"
      ],
      "text/plain": [
       "      gender SeniorCitizen Partner Dependents PhoneService MultipleLines  \\\n",
       "5758  Female            No     Yes         No          Yes            No   \n",
       "5352  Female            No      No        Yes          Yes            No   \n",
       "5736  Female            No     Yes        Yes          Yes           Yes   \n",
       "\n",
       "     InternetService OnlineSecurity OnlineBackup DeviceProtection  ...  \\\n",
       "5758             DSL             No           No               No  ...   \n",
       "5352              No             No           No               No  ...   \n",
       "5736              No             No           No               No  ...   \n",
       "\n",
       "     StreamingTV StreamingMovies  Contract PaperlessBilling  \\\n",
       "5758         Yes              No  Two year              Yes   \n",
       "5352          No              No  One year              Yes   \n",
       "5736          No              No  Two year              Yes   \n",
       "\n",
       "                PaymentMethod  tenure_group tenure  MonthlyCharges  \\\n",
       "5758  Credit card (automatic)  Tenure_gt_60     65            59.8   \n",
       "5352             Mailed check   Tenure_0-12      4            20.4   \n",
       "5736             Mailed check  Tenure_gt_60     61            24.2   \n",
       "\n",
       "      TotalCharges  customerID  \n",
       "5758       3808.20  1972-XMUWV  \n",
       "5352         84.75  2495-TTHBQ  \n",
       "5736       1445.20  3580-GICBM  \n",
       "\n",
       "[3 rows x 21 columns]"
      ]
     },
     "execution_count": 9,
     "metadata": {},
     "output_type": "execute_result"
    }
   ],
   "source": [
    "X_train.head(3)"
   ]
  },
  {
   "cell_type": "markdown",
   "metadata": {},
   "source": [
    "Все корректно вполне работает. Теперь мы умеем применять ohe к категориальным переменным. \n",
    "Научимся также работать и с числовыми признаками"
   ]
  },
  {
   "cell_type": "code",
   "execution_count": 10,
   "metadata": {},
   "outputs": [
    {
     "data": {
      "text/plain": [
       "['tenure', 'MonthlyCharges', 'TotalCharges']"
      ]
     },
     "execution_count": 10,
     "metadata": {},
     "output_type": "execute_result"
    }
   ],
   "source": [
    "num_cols"
   ]
  },
  {
   "cell_type": "code",
   "execution_count": 11,
   "metadata": {},
   "outputs": [
    {
     "data": {
      "text/plain": [
       "array([[ 1.3254564 ],\n",
       "       [-1.15252355],\n",
       "       [ 1.16296591],\n",
       "       ...,\n",
       "       [-0.94941044],\n",
       "       [ 0.71611707],\n",
       "       [-0.50256159]])"
      ]
     },
     "execution_count": 11,
     "metadata": {},
     "output_type": "execute_result"
    }
   ],
   "source": [
    "from sklearn.preprocessing import StandardScaler\n",
    "\n",
    "tenure =  Pipeline([\n",
    "                ('selector', NumberSelector(key='tenure')),\n",
    "                ('standard', StandardScaler())\n",
    "            ])\n",
    "\n",
    "tenure.fit_transform(X_train)"
   ]
  },
  {
   "cell_type": "markdown",
   "metadata": {},
   "source": [
    "Теперь мы умеем и это тоже. Давайте добавим парочку \"нестандартных\" кодировщиков"
   ]
  },
  {
   "cell_type": "code",
   "execution_count": 12,
   "metadata": {},
   "outputs": [
    {
     "data": {
      "text/plain": [
       "{'No': 0.3297609233305853, 'Yes': 0.1971706454465075}"
      ]
     },
     "execution_count": 12,
     "metadata": {},
     "output_type": "execute_result"
    }
   ],
   "source": [
    "telcom.groupby('Partner')['Churn'].mean().to_dict()"
   ]
  },
  {
   "cell_type": "code",
   "execution_count": null,
   "metadata": {},
   "outputs": [],
   "source": []
  },
  {
   "cell_type": "code",
   "execution_count": 13,
   "metadata": {},
   "outputs": [],
   "source": [
    "class TargetCountEncoder(BaseEstimator, TransformerMixin):\n",
    "    def __init__(self, target_name, key):\n",
    "        self.target_name = target_name\n",
    "        self.key = key\n",
    "\n",
    "    def fit(self, X, y=None):\n",
    "        self.cat_dict = telcom.groupby(self.key)[self.target_name].mean().to_dict()\n",
    "        return self\n",
    "\n",
    "    def transform(self, X):\n",
    "        X[self.key] = X[self.key].map(self.cat_dict)\n",
    "        return X[self.key]"
   ]
  },
  {
   "cell_type": "code",
   "execution_count": 14,
   "metadata": {},
   "outputs": [
    {
     "data": {
      "text/plain": [
       "0    0.197171\n",
       "1    0.329761\n",
       "2    0.329761\n",
       "3    0.329761\n",
       "4    0.329761\n",
       "5    0.329761\n",
       "6    0.329761\n",
       "7    0.329761\n",
       "8    0.197171\n",
       "9    0.329761\n",
       "Name: Partner, dtype: float64"
      ]
     },
     "execution_count": 14,
     "metadata": {},
     "output_type": "execute_result"
    }
   ],
   "source": [
    "trg_enc = TargetCountEncoder('Churn', 'Partner')\n",
    "trg_enc.fit(telcom)\n",
    "trg_enc.transform(telcom.iloc[:10])"
   ]
  },
  {
   "cell_type": "markdown",
   "metadata": {},
   "source": [
    "Эта штука также работает. Давайте создадим наши все кубики для будущего пайплайна"
   ]
  },
  {
   "cell_type": "code",
   "execution_count": 15,
   "metadata": {},
   "outputs": [
    {
     "data": {
      "text/plain": [
       "['gender',\n",
       " 'SeniorCitizen',\n",
       " 'Partner',\n",
       " 'Dependents',\n",
       " 'PhoneService',\n",
       " 'MultipleLines',\n",
       " 'InternetService',\n",
       " 'OnlineSecurity',\n",
       " 'OnlineBackup',\n",
       " 'DeviceProtection',\n",
       " 'TechSupport',\n",
       " 'StreamingTV',\n",
       " 'StreamingMovies',\n",
       " 'Contract',\n",
       " 'PaperlessBilling',\n",
       " 'PaymentMethod',\n",
       " 'tenure_group']"
      ]
     },
     "execution_count": 15,
     "metadata": {},
     "output_type": "execute_result"
    }
   ],
   "source": [
    "cat_cols"
   ]
  },
  {
   "cell_type": "code",
   "execution_count": 16,
   "metadata": {},
   "outputs": [],
   "source": [
    "gender = Pipeline([\n",
    "                ('selector', ColumnSelector(key='gender')),\n",
    "                ('ohe', OHEEncoder(key='gender'))\n",
    "            ])\n",
    "SeniorCitizen = Pipeline([\n",
    "                ('selector', ColumnSelector(key='SeniorCitizen')),\n",
    "                ('ohe', OHEEncoder(key='SeniorCitizen'))\n",
    "            ])\n",
    "Partner = Pipeline([\n",
    "                ('selector', ColumnSelector(key='Partner')),\n",
    "                ('ohe', OHEEncoder(key='Partner'))\n",
    "            ])\n",
    "Dependents = Pipeline([\n",
    "                ('selector', ColumnSelector(key='Dependents')),\n",
    "                ('ohe', OHEEncoder(key='Dependents'))\n",
    "            ])\n",
    "PhoneService = Pipeline([\n",
    "                ('selector', ColumnSelector(key='PhoneService')),\n",
    "                ('ohe', OHEEncoder(key='PhoneService'))\n",
    "            ])\n",
    "MultipleLines = Pipeline([\n",
    "                ('selector', ColumnSelector(key='MultipleLines')),\n",
    "                ('ohe', OHEEncoder(key='MultipleLines'))\n",
    "            ])\n",
    "InternetService = Pipeline([\n",
    "                ('selector', ColumnSelector(key='InternetService')),\n",
    "                ('ohe', OHEEncoder(key='InternetService'))\n",
    "            ])\n",
    "OnlineSecurity = Pipeline([\n",
    "                ('selector', ColumnSelector(key='OnlineSecurity')),\n",
    "                ('ohe', OHEEncoder(key='OnlineSecurity'))\n",
    "            ])\n",
    "OnlineBackup = Pipeline([\n",
    "                ('selector', ColumnSelector(key='OnlineBackup')),\n",
    "                ('ohe', OHEEncoder(key='OnlineBackup'))\n",
    "            ])\n",
    "DeviceProtection = Pipeline([\n",
    "                ('selector', ColumnSelector(key='DeviceProtection')),\n",
    "                ('ohe', OHEEncoder(key='DeviceProtection'))\n",
    "            ])\n",
    "\n",
    "TechSupport = Pipeline([\n",
    "                ('selector', ColumnSelector(key='TechSupport')),\n",
    "                ('ohe', OHEEncoder(key='TechSupport'))\n",
    "            ])\n",
    "StreamingTV = Pipeline([\n",
    "                ('selector', ColumnSelector(key='StreamingTV')),\n",
    "                ('ohe', OHEEncoder(key='StreamingTV'))\n",
    "            ])\n",
    "StreamingMovies = Pipeline([\n",
    "                ('selector', ColumnSelector(key='StreamingMovies')),\n",
    "                ('ohe', OHEEncoder(key='StreamingMovies'))\n",
    "            ])\n",
    "Contract = Pipeline([\n",
    "                ('selector', ColumnSelector(key='Contract')),\n",
    "                ('ohe', OHEEncoder(key='Contract'))\n",
    "            ])\n",
    "PaperlessBilling = Pipeline([\n",
    "                ('selector', ColumnSelector(key='PaperlessBilling')),\n",
    "                ('ohe', OHEEncoder(key='PaperlessBilling'))\n",
    "            ])\n",
    "PaymentMethod = Pipeline([\n",
    "                ('selector', ColumnSelector(key='PaymentMethod')),\n",
    "                ('ohe', OHEEncoder(key='PaymentMethod'))\n",
    "            ])\n",
    "tenure_group = Pipeline([\n",
    "                ('selector', ColumnSelector(key='tenure_group')),\n",
    "                ('ohe', OHEEncoder(key='tenure_group'))\n",
    "            ])"
   ]
  },
  {
   "cell_type": "markdown",
   "metadata": {},
   "source": [
    "Теперь для вещественных переменных"
   ]
  },
  {
   "cell_type": "code",
   "execution_count": 17,
   "metadata": {},
   "outputs": [
    {
     "data": {
      "text/plain": [
       "['tenure', 'MonthlyCharges', 'TotalCharges']"
      ]
     },
     "execution_count": 17,
     "metadata": {},
     "output_type": "execute_result"
    }
   ],
   "source": [
    "num_cols"
   ]
  },
  {
   "cell_type": "code",
   "execution_count": 18,
   "metadata": {},
   "outputs": [],
   "source": [
    "tenure =  Pipeline([\n",
    "                ('selector', NumberSelector(key='tenure')),\n",
    "                ('standard', StandardScaler())\n",
    "            ])\n",
    "MonthlyCharges =  Pipeline([\n",
    "                ('selector', NumberSelector(key='MonthlyCharges')),\n",
    "                ('standard', StandardScaler())\n",
    "            ])\n",
    "TotalCharges =  Pipeline([\n",
    "                ('selector', NumberSelector(key='TotalCharges')),\n",
    "                ('standard', StandardScaler())\n",
    "            ])"
   ]
  },
  {
   "cell_type": "code",
   "execution_count": 19,
   "metadata": {},
   "outputs": [
    {
     "data": {
      "text/plain": [
       "array([[ 1.3254564 , -0.16131566,  0.67939496, ...,  0.        ,\n",
       "         1.        ,  0.        ],\n",
       "       [-1.15252355, -1.46993038, -0.96734069, ...,  0.        ,\n",
       "         1.        ,  0.        ],\n",
       "       [ 1.16296591, -1.34371881, -0.3656671 , ...,  0.        ,\n",
       "         1.        ,  0.        ],\n",
       "       ...,\n",
       "       [-0.94941044,  0.54779409, -0.65789087, ...,  0.        ,\n",
       "         0.        ,  1.        ],\n",
       "       [ 0.71611707, -1.4915192 , -0.56740433, ...,  0.        ,\n",
       "         1.        ,  0.        ],\n",
       "       [-0.50256159,  0.29869231, -0.35757373, ...,  1.        ,\n",
       "         0.        ,  1.        ]])"
      ]
     },
     "execution_count": 19,
     "metadata": {},
     "output_type": "execute_result"
    }
   ],
   "source": [
    "from sklearn.pipeline import FeatureUnion\n",
    "\n",
    "feats = FeatureUnion([('tenure', tenure), \n",
    "                      ('MonthlyCharges', MonthlyCharges),\n",
    "                      ('TotalCharges', TotalCharges),\n",
    "                      ('tenure_group', tenure_group),\n",
    "                      ('PaymentMethod', PaymentMethod),\n",
    "                      ('PaperlessBilling', PaperlessBilling),\n",
    "                      ('Contract', Contract),\n",
    "                      ('StreamingMovies', StreamingMovies),\n",
    "                      ('StreamingTV', StreamingTV),\n",
    "                      ('TechSupport', TechSupport),\n",
    "                      ('DeviceProtection', DeviceProtection),\n",
    "                      ('OnlineBackup', OnlineBackup),\n",
    "                      ('OnlineSecurity', OnlineSecurity),\n",
    "                      ('InternetService', InternetService),\n",
    "                      ('MultipleLines', MultipleLines),\n",
    "                      ('PhoneService', PhoneService),\n",
    "                      ('Dependents', Dependents),\n",
    "                      ('Partner', Partner),\n",
    "                      ('SeniorCitizen', SeniorCitizen),\n",
    "                      ('gender', gender)])\n",
    "\n",
    "feature_processing = Pipeline([('feats', feats)])\n",
    "feature_processing.fit_transform(X_train)"
   ]
  },
  {
   "cell_type": "markdown",
   "metadata": {},
   "source": [
    "Теперь у нас есть один объект, который умеет преобразовывать наши данные"
   ]
  },
  {
   "cell_type": "code",
   "execution_count": 20,
   "metadata": {},
   "outputs": [
    {
     "data": {
      "text/plain": [
       "0.7837139164153382"
      ]
     },
     "execution_count": 20,
     "metadata": {},
     "output_type": "execute_result"
    }
   ],
   "source": [
    "from sklearn.ensemble import RandomForestClassifier\n",
    "\n",
    "pipeline = Pipeline([\n",
    "    ('features',feats),\n",
    "    ('classifier', RandomForestClassifier(random_state = 42)),\n",
    "])\n",
    "\n",
    "pipeline.fit(X_train, y_train)\n",
    "\n",
    "preds = pipeline.predict(X_test)\n",
    "np.mean(preds == y_test)"
   ]
  },
  {
   "cell_type": "markdown",
   "metadata": {},
   "source": [
    "Вот так теперь выглядит у нас объединенный процесс feature engineering и обучения.\n",
    "\n",
    "Для прогноза мы просто вызываем теперь метод predict."
   ]
  },
  {
   "cell_type": "code",
   "execution_count": 21,
   "metadata": {},
   "outputs": [
    {
     "data": {
      "text/html": [
       "<div>\n",
       "<style scoped>\n",
       "    .dataframe tbody tr th:only-of-type {\n",
       "        vertical-align: middle;\n",
       "    }\n",
       "\n",
       "    .dataframe tbody tr th {\n",
       "        vertical-align: top;\n",
       "    }\n",
       "\n",
       "    .dataframe thead th {\n",
       "        text-align: right;\n",
       "    }\n",
       "</style>\n",
       "<table border=\"1\" class=\"dataframe\">\n",
       "  <thead>\n",
       "    <tr style=\"text-align: right;\">\n",
       "      <th></th>\n",
       "      <th>gender</th>\n",
       "      <th>SeniorCitizen</th>\n",
       "      <th>Partner</th>\n",
       "      <th>Dependents</th>\n",
       "      <th>PhoneService</th>\n",
       "      <th>MultipleLines</th>\n",
       "      <th>InternetService</th>\n",
       "      <th>OnlineSecurity</th>\n",
       "      <th>OnlineBackup</th>\n",
       "      <th>DeviceProtection</th>\n",
       "      <th>...</th>\n",
       "      <th>StreamingTV</th>\n",
       "      <th>StreamingMovies</th>\n",
       "      <th>Contract</th>\n",
       "      <th>PaperlessBilling</th>\n",
       "      <th>PaymentMethod</th>\n",
       "      <th>tenure_group</th>\n",
       "      <th>tenure</th>\n",
       "      <th>MonthlyCharges</th>\n",
       "      <th>TotalCharges</th>\n",
       "      <th>customerID</th>\n",
       "    </tr>\n",
       "  </thead>\n",
       "  <tbody>\n",
       "    <tr>\n",
       "      <th>2476</th>\n",
       "      <td>Male</td>\n",
       "      <td>Yes</td>\n",
       "      <td>Yes</td>\n",
       "      <td>No</td>\n",
       "      <td>Yes</td>\n",
       "      <td>Yes</td>\n",
       "      <td>No</td>\n",
       "      <td>No</td>\n",
       "      <td>No</td>\n",
       "      <td>No</td>\n",
       "      <td>...</td>\n",
       "      <td>No</td>\n",
       "      <td>No</td>\n",
       "      <td>Two year</td>\n",
       "      <td>No</td>\n",
       "      <td>Bank transfer (automatic)</td>\n",
       "      <td>Tenure_gt_60</td>\n",
       "      <td>61</td>\n",
       "      <td>25.00</td>\n",
       "      <td>1501.75</td>\n",
       "      <td>6614-YWYSC</td>\n",
       "    </tr>\n",
       "    <tr>\n",
       "      <th>6773</th>\n",
       "      <td>Female</td>\n",
       "      <td>No</td>\n",
       "      <td>No</td>\n",
       "      <td>No</td>\n",
       "      <td>Yes</td>\n",
       "      <td>Yes</td>\n",
       "      <td>No</td>\n",
       "      <td>No</td>\n",
       "      <td>No</td>\n",
       "      <td>No</td>\n",
       "      <td>...</td>\n",
       "      <td>No</td>\n",
       "      <td>No</td>\n",
       "      <td>Month-to-month</td>\n",
       "      <td>No</td>\n",
       "      <td>Bank transfer (automatic)</td>\n",
       "      <td>Tenure_12-24</td>\n",
       "      <td>19</td>\n",
       "      <td>24.70</td>\n",
       "      <td>465.85</td>\n",
       "      <td>9546-KDTRB</td>\n",
       "    </tr>\n",
       "    <tr>\n",
       "      <th>6116</th>\n",
       "      <td>Male</td>\n",
       "      <td>No</td>\n",
       "      <td>Yes</td>\n",
       "      <td>No</td>\n",
       "      <td>Yes</td>\n",
       "      <td>Yes</td>\n",
       "      <td>Fiber optic</td>\n",
       "      <td>No</td>\n",
       "      <td>No</td>\n",
       "      <td>Yes</td>\n",
       "      <td>...</td>\n",
       "      <td>Yes</td>\n",
       "      <td>Yes</td>\n",
       "      <td>Month-to-month</td>\n",
       "      <td>Yes</td>\n",
       "      <td>Credit card (automatic)</td>\n",
       "      <td>Tenure_12-24</td>\n",
       "      <td>13</td>\n",
       "      <td>102.25</td>\n",
       "      <td>1359.00</td>\n",
       "      <td>0871-URUWO</td>\n",
       "    </tr>\n",
       "  </tbody>\n",
       "</table>\n",
       "<p>3 rows × 21 columns</p>\n",
       "</div>"
      ],
      "text/plain": [
       "      gender SeniorCitizen Partner Dependents PhoneService MultipleLines  \\\n",
       "2476    Male           Yes     Yes         No          Yes           Yes   \n",
       "6773  Female            No      No         No          Yes           Yes   \n",
       "6116    Male            No     Yes         No          Yes           Yes   \n",
       "\n",
       "     InternetService OnlineSecurity OnlineBackup DeviceProtection  ...  \\\n",
       "2476              No             No           No               No  ...   \n",
       "6773              No             No           No               No  ...   \n",
       "6116     Fiber optic             No           No              Yes  ...   \n",
       "\n",
       "     StreamingTV StreamingMovies        Contract PaperlessBilling  \\\n",
       "2476          No              No        Two year               No   \n",
       "6773          No              No  Month-to-month               No   \n",
       "6116         Yes             Yes  Month-to-month              Yes   \n",
       "\n",
       "                  PaymentMethod  tenure_group tenure  MonthlyCharges  \\\n",
       "2476  Bank transfer (automatic)  Tenure_gt_60     61           25.00   \n",
       "6773  Bank transfer (automatic)  Tenure_12-24     19           24.70   \n",
       "6116    Credit card (automatic)  Tenure_12-24     13          102.25   \n",
       "\n",
       "      TotalCharges  customerID  \n",
       "2476       1501.75  6614-YWYSC  \n",
       "6773        465.85  9546-KDTRB  \n",
       "6116       1359.00  0871-URUWO  \n",
       "\n",
       "[3 rows x 21 columns]"
      ]
     },
     "execution_count": 21,
     "metadata": {},
     "output_type": "execute_result"
    }
   ],
   "source": [
    "X_test.head(3)"
   ]
  },
  {
   "cell_type": "markdown",
   "metadata": {},
   "source": [
    "### А теперь давайте перейдем к кроссвалидации"
   ]
  },
  {
   "cell_type": "code",
   "execution_count": 22,
   "metadata": {},
   "outputs": [
    {
     "data": {
      "text/plain": [
       "dict_keys(['memory', 'steps', 'verbose', 'features', 'classifier', 'features__n_jobs', 'features__transformer_list', 'features__transformer_weights', 'features__verbose', 'features__tenure', 'features__MonthlyCharges', 'features__TotalCharges', 'features__tenure_group', 'features__PaymentMethod', 'features__PaperlessBilling', 'features__Contract', 'features__StreamingMovies', 'features__StreamingTV', 'features__TechSupport', 'features__DeviceProtection', 'features__OnlineBackup', 'features__OnlineSecurity', 'features__InternetService', 'features__MultipleLines', 'features__PhoneService', 'features__Dependents', 'features__Partner', 'features__SeniorCitizen', 'features__gender', 'features__tenure__memory', 'features__tenure__steps', 'features__tenure__verbose', 'features__tenure__selector', 'features__tenure__standard', 'features__tenure__selector__key', 'features__tenure__standard__copy', 'features__tenure__standard__with_mean', 'features__tenure__standard__with_std', 'features__MonthlyCharges__memory', 'features__MonthlyCharges__steps', 'features__MonthlyCharges__verbose', 'features__MonthlyCharges__selector', 'features__MonthlyCharges__standard', 'features__MonthlyCharges__selector__key', 'features__MonthlyCharges__standard__copy', 'features__MonthlyCharges__standard__with_mean', 'features__MonthlyCharges__standard__with_std', 'features__TotalCharges__memory', 'features__TotalCharges__steps', 'features__TotalCharges__verbose', 'features__TotalCharges__selector', 'features__TotalCharges__standard', 'features__TotalCharges__selector__key', 'features__TotalCharges__standard__copy', 'features__TotalCharges__standard__with_mean', 'features__TotalCharges__standard__with_std', 'features__tenure_group__memory', 'features__tenure_group__steps', 'features__tenure_group__verbose', 'features__tenure_group__selector', 'features__tenure_group__ohe', 'features__tenure_group__selector__key', 'features__tenure_group__ohe__key', 'features__PaymentMethod__memory', 'features__PaymentMethod__steps', 'features__PaymentMethod__verbose', 'features__PaymentMethod__selector', 'features__PaymentMethod__ohe', 'features__PaymentMethod__selector__key', 'features__PaymentMethod__ohe__key', 'features__PaperlessBilling__memory', 'features__PaperlessBilling__steps', 'features__PaperlessBilling__verbose', 'features__PaperlessBilling__selector', 'features__PaperlessBilling__ohe', 'features__PaperlessBilling__selector__key', 'features__PaperlessBilling__ohe__key', 'features__Contract__memory', 'features__Contract__steps', 'features__Contract__verbose', 'features__Contract__selector', 'features__Contract__ohe', 'features__Contract__selector__key', 'features__Contract__ohe__key', 'features__StreamingMovies__memory', 'features__StreamingMovies__steps', 'features__StreamingMovies__verbose', 'features__StreamingMovies__selector', 'features__StreamingMovies__ohe', 'features__StreamingMovies__selector__key', 'features__StreamingMovies__ohe__key', 'features__StreamingTV__memory', 'features__StreamingTV__steps', 'features__StreamingTV__verbose', 'features__StreamingTV__selector', 'features__StreamingTV__ohe', 'features__StreamingTV__selector__key', 'features__StreamingTV__ohe__key', 'features__TechSupport__memory', 'features__TechSupport__steps', 'features__TechSupport__verbose', 'features__TechSupport__selector', 'features__TechSupport__ohe', 'features__TechSupport__selector__key', 'features__TechSupport__ohe__key', 'features__DeviceProtection__memory', 'features__DeviceProtection__steps', 'features__DeviceProtection__verbose', 'features__DeviceProtection__selector', 'features__DeviceProtection__ohe', 'features__DeviceProtection__selector__key', 'features__DeviceProtection__ohe__key', 'features__OnlineBackup__memory', 'features__OnlineBackup__steps', 'features__OnlineBackup__verbose', 'features__OnlineBackup__selector', 'features__OnlineBackup__ohe', 'features__OnlineBackup__selector__key', 'features__OnlineBackup__ohe__key', 'features__OnlineSecurity__memory', 'features__OnlineSecurity__steps', 'features__OnlineSecurity__verbose', 'features__OnlineSecurity__selector', 'features__OnlineSecurity__ohe', 'features__OnlineSecurity__selector__key', 'features__OnlineSecurity__ohe__key', 'features__InternetService__memory', 'features__InternetService__steps', 'features__InternetService__verbose', 'features__InternetService__selector', 'features__InternetService__ohe', 'features__InternetService__selector__key', 'features__InternetService__ohe__key', 'features__MultipleLines__memory', 'features__MultipleLines__steps', 'features__MultipleLines__verbose', 'features__MultipleLines__selector', 'features__MultipleLines__ohe', 'features__MultipleLines__selector__key', 'features__MultipleLines__ohe__key', 'features__PhoneService__memory', 'features__PhoneService__steps', 'features__PhoneService__verbose', 'features__PhoneService__selector', 'features__PhoneService__ohe', 'features__PhoneService__selector__key', 'features__PhoneService__ohe__key', 'features__Dependents__memory', 'features__Dependents__steps', 'features__Dependents__verbose', 'features__Dependents__selector', 'features__Dependents__ohe', 'features__Dependents__selector__key', 'features__Dependents__ohe__key', 'features__Partner__memory', 'features__Partner__steps', 'features__Partner__verbose', 'features__Partner__selector', 'features__Partner__ohe', 'features__Partner__selector__key', 'features__Partner__ohe__key', 'features__SeniorCitizen__memory', 'features__SeniorCitizen__steps', 'features__SeniorCitizen__verbose', 'features__SeniorCitizen__selector', 'features__SeniorCitizen__ohe', 'features__SeniorCitizen__selector__key', 'features__SeniorCitizen__ohe__key', 'features__gender__memory', 'features__gender__steps', 'features__gender__verbose', 'features__gender__selector', 'features__gender__ohe', 'features__gender__selector__key', 'features__gender__ohe__key', 'classifier__bootstrap', 'classifier__ccp_alpha', 'classifier__class_weight', 'classifier__criterion', 'classifier__max_depth', 'classifier__max_features', 'classifier__max_leaf_nodes', 'classifier__max_samples', 'classifier__min_impurity_decrease', 'classifier__min_impurity_split', 'classifier__min_samples_leaf', 'classifier__min_samples_split', 'classifier__min_weight_fraction_leaf', 'classifier__n_estimators', 'classifier__n_jobs', 'classifier__oob_score', 'classifier__random_state', 'classifier__verbose', 'classifier__warm_start'])"
      ]
     },
     "execution_count": 22,
     "metadata": {},
     "output_type": "execute_result"
    }
   ],
   "source": [
    "pipeline.get_params().keys()"
   ]
  },
  {
   "cell_type": "markdown",
   "metadata": {},
   "source": [
    "Будем использовать GridSearchCV"
   ]
  },
  {
   "cell_type": "code",
   "execution_count": 23,
   "metadata": {},
   "outputs": [
    {
     "data": {
      "text/plain": [
       "GridSearchCV(cv=5,\n",
       "             estimator=Pipeline(steps=[('features',\n",
       "                                        FeatureUnion(transformer_list=[('tenure',\n",
       "                                                                        Pipeline(steps=[('selector',\n",
       "                                                                                         NumberSelector(key='tenure')),\n",
       "                                                                                        ('standard',\n",
       "                                                                                         StandardScaler())])),\n",
       "                                                                       ('MonthlyCharges',\n",
       "                                                                        Pipeline(steps=[('selector',\n",
       "                                                                                         NumberSelector(key='MonthlyCharges')),\n",
       "                                                                                        ('standard',\n",
       "                                                                                         StandardScaler())])),\n",
       "                                                                       ('TotalCharges',\n",
       "                                                                        Pipeline(steps=[('selector',\n",
       "                                                                                         N...\n",
       "                                                                        Pipeline(steps=[('selector',\n",
       "                                                                                         ColumnSelector(key='SeniorCitizen')),\n",
       "                                                                                        ('ohe',\n",
       "                                                                                         OHEEncoder(key='SeniorCitizen'))])),\n",
       "                                                                       ('gender',\n",
       "                                                                        Pipeline(steps=[('selector',\n",
       "                                                                                         ColumnSelector(key='gender')),\n",
       "                                                                                        ('ohe',\n",
       "                                                                                         OHEEncoder(key='gender'))]))])),\n",
       "                                       ('classifier',\n",
       "                                        RandomForestClassifier(random_state=42))]),\n",
       "             param_grid={'classifier__max_depth': [50, 70],\n",
       "                         'classifier__min_samples_leaf': [1, 2]})"
      ]
     },
     "execution_count": 23,
     "metadata": {},
     "output_type": "execute_result"
    }
   ],
   "source": [
    "from sklearn.model_selection import GridSearchCV\n",
    "\n",
    "hyperparameters = { 'classifier__max_depth': [50, 70],\n",
    "                    'classifier__min_samples_leaf': [1,2]\n",
    "                  }\n",
    "clf = GridSearchCV(pipeline, hyperparameters, cv=5)\n",
    " \n",
    "# Fit and tune model\n",
    "clf.fit(X_train, y_train)"
   ]
  },
  {
   "cell_type": "code",
   "execution_count": 24,
   "metadata": {},
   "outputs": [
    {
     "data": {
      "text/plain": [
       "{'classifier__max_depth': 50, 'classifier__min_samples_leaf': 2}"
      ]
     },
     "execution_count": 24,
     "metadata": {},
     "output_type": "execute_result"
    }
   ],
   "source": [
    "clf.best_params_"
   ]
  },
  {
   "cell_type": "code",
   "execution_count": 25,
   "metadata": {},
   "outputs": [
    {
     "data": {
      "text/plain": [
       "0.8013787160706592"
      ]
     },
     "execution_count": 25,
     "metadata": {},
     "output_type": "execute_result"
    }
   ],
   "source": [
    "#refitting on entire training data using best settings\n",
    "clf.refit\n",
    "\n",
    "preds = clf.predict(X_test)\n",
    "probs = clf.predict_proba(X_test)\n",
    "\n",
    "np.mean(preds == y_test)"
   ]
  },
  {
   "cell_type": "markdown",
   "metadata": {},
   "source": [
    "Теперь сравним множество разных моделей"
   ]
  },
  {
   "cell_type": "code",
   "execution_count": 26,
   "metadata": {},
   "outputs": [],
   "source": [
    "import xgboost as xgb\n",
    "from sklearn.svm import SVC\n",
    "from sklearn.linear_model import SGDClassifier\n",
    "from sklearn.neighbors import KNeighborsClassifier\n",
    "from sklearn.tree import DecisionTreeClassifier\n",
    "from sklearn.tree import ExtraTreeClassifier\n",
    "from sklearn.ensemble import GradientBoostingClassifier\n",
    "from sklearn.ensemble import AdaBoostClassifier\n",
    "\n",
    "classifiers = [\n",
    "    SVC(),\n",
    "    SGDClassifier(),\n",
    "    KNeighborsClassifier(),\n",
    "    DecisionTreeClassifier(),\n",
    "    ExtraTreeClassifier(),\n",
    "    GradientBoostingClassifier(),\n",
    "    AdaBoostClassifier(),\n",
    "    xgb.XGBClassifier()\n",
    "]"
   ]
  },
  {
   "cell_type": "code",
   "execution_count": 27,
   "metadata": {},
   "outputs": [],
   "source": [
    "pipeline = Pipeline([\n",
    "    ('features',feats),\n",
    "    ('classifier', RandomForestClassifier(random_state = 42)),\n",
    "])"
   ]
  },
  {
   "cell_type": "code",
   "execution_count": 28,
   "metadata": {},
   "outputs": [
    {
     "name": "stdout",
     "output_type": "stream",
     "text": [
      "----------------------\n",
      "SVC()\n",
      "----------------------\n",
      "'Leaderboard score - mean auc test 0.8118451730168985'\n",
      "----------------------\n",
      "SGDClassifier()\n",
      "----------------------\n",
      "'Leaderboard score - mean auc test 0.8350959250645493'\n",
      "----------------------\n",
      "KNeighborsClassifier()\n",
      "----------------------\n",
      "'Leaderboard score - mean auc test 0.7898598824602955'\n",
      "----------------------\n",
      "DecisionTreeClassifier()\n",
      "----------------------\n",
      "'Leaderboard score - mean auc test 0.6560779822584717'\n",
      "----------------------\n",
      "ExtraTreeClassifier()\n",
      "----------------------\n",
      "'Leaderboard score - mean auc test 0.6605655031809098'\n",
      "----------------------\n",
      "GradientBoostingClassifier()\n",
      "----------------------\n",
      "'Leaderboard score - mean auc test 0.8475347490886053'\n",
      "----------------------\n",
      "AdaBoostClassifier()\n",
      "----------------------\n",
      "'Leaderboard score - mean auc test 0.8440261754963201'\n",
      "----------------------\n",
      "XGBClassifier(base_score=None, booster=None, colsample_bylevel=None,\n",
      "              colsample_bynode=None, colsample_bytree=None, gamma=None,\n",
      "              gpu_id=None, importance_type='gain', interaction_constraints=None,\n",
      "              learning_rate=None, max_delta_step=None, max_depth=None,\n",
      "              min_child_weight=None, missing=nan, monotone_constraints=None,\n",
      "              n_estimators=100, n_jobs=None, num_parallel_tree=None,\n",
      "              random_state=None, reg_alpha=None, reg_lambda=None,\n",
      "              scale_pos_weight=None, subsample=None, tree_method=None,\n",
      "              validate_parameters=False, verbosity=None)\n",
      "----------------------\n",
      "'Leaderboard score - mean auc test 0.8201406457614988'\n"
     ]
    }
   ],
   "source": [
    "from sklearn.model_selection import cross_validate\n",
    "from pprint import pprint\n",
    "\n",
    "for clf in classifiers:\n",
    "    pipeline.set_params(classifier=clf)\n",
    "    scores = cross_validate(pipeline, X_train, y_train, scoring='roc_auc', cv=3)\n",
    "    #print(scores)\n",
    "    print('----------------------')\n",
    "    print(str(clf))\n",
    "    print('----------------------')\n",
    "    pprint('Leaderboard score - mean auc test '+str((scores['test_score'].mean())))"
   ]
  },
  {
   "cell_type": "markdown",
   "metadata": {},
   "source": [
    "Можем теперь выбрать лучшую модель и поперебирать ее параметры"
   ]
  },
  {
   "cell_type": "code",
   "execution_count": 29,
   "metadata": {},
   "outputs": [
    {
     "data": {
      "text/plain": [
       "GridSearchCV(cv=3,\n",
       "             estimator=Pipeline(steps=[('features',\n",
       "                                        FeatureUnion(transformer_list=[('tenure',\n",
       "                                                                        Pipeline(steps=[('selector',\n",
       "                                                                                         NumberSelector(key='tenure')),\n",
       "                                                                                        ('standard',\n",
       "                                                                                         StandardScaler())])),\n",
       "                                                                       ('MonthlyCharges',\n",
       "                                                                        Pipeline(steps=[('selector',\n",
       "                                                                                         NumberSelector(key='MonthlyCharges')),\n",
       "                                                                                        ('standard',\n",
       "                                                                                         StandardScaler())])),\n",
       "                                                                       ('TotalCharges',\n",
       "                                                                        Pipeline(steps=[('selector',\n",
       "                                                                                         N...\n",
       "                                                      missing=nan,\n",
       "                                                      monotone_constraints=None,\n",
       "                                                      n_estimators=100,\n",
       "                                                      n_jobs=None,\n",
       "                                                      num_parallel_tree=None,\n",
       "                                                      random_state=None,\n",
       "                                                      reg_alpha=None,\n",
       "                                                      reg_lambda=None,\n",
       "                                                      scale_pos_weight=None,\n",
       "                                                      subsample=None,\n",
       "                                                      tree_method=None,\n",
       "                                                      validate_parameters=False,\n",
       "                                                      verbosity=None))]),\n",
       "             param_grid={'classifier__max_depth': [3, 5],\n",
       "                         'classifier__n_estimators': [200, 300],\n",
       "                         'classifier__subsample': [0.3, 0.4, 0.6]})"
      ]
     },
     "execution_count": 29,
     "metadata": {},
     "output_type": "execute_result"
    }
   ],
   "source": [
    "pipeline = Pipeline([\n",
    "    ('features',feats),\n",
    "    ('classifier', xgb.XGBClassifier()),\n",
    "])\n",
    "\n",
    "hyperparameters = { 'classifier__max_depth': [3, 5],\n",
    "                    'classifier__subsample': [0.3, 0.4, 0.6],\n",
    "                    'classifier__n_estimators': [200, 300],\n",
    "                  }\n",
    "clf = GridSearchCV(pipeline, hyperparameters, cv=3)\n",
    " \n",
    "# Fit and tune model\n",
    "clf.fit(X_train, y_train)"
   ]
  },
  {
   "cell_type": "code",
   "execution_count": 30,
   "metadata": {},
   "outputs": [
    {
     "data": {
      "text/plain": [
       "{'classifier__max_depth': 3,\n",
       " 'classifier__n_estimators': 200,\n",
       " 'classifier__subsample': 0.4}"
      ]
     },
     "execution_count": 30,
     "metadata": {},
     "output_type": "execute_result"
    }
   ],
   "source": [
    "clf.best_params_"
   ]
  },
  {
   "cell_type": "code",
   "execution_count": 31,
   "metadata": {},
   "outputs": [
    {
     "data": {
      "text/plain": [
       "0.7789745799224472"
      ]
     },
     "execution_count": 31,
     "metadata": {},
     "output_type": "execute_result"
    }
   ],
   "source": [
    "#refitting on entire training data using best settings\n",
    "clf.refit\n",
    "\n",
    "preds = clf.predict(X_test)\n",
    "probs = clf.predict_proba(X_test)\n",
    "\n",
    "np.mean(preds == y_test)"
   ]
  },
  {
   "cell_type": "markdown",
   "metadata": {},
   "source": [
    "Построим отчеты, посмотрим на значимость признаков и сохраним наш пайплайн для будущего использования"
   ]
  },
  {
   "cell_type": "code",
   "execution_count": 32,
   "metadata": {
    "scrolled": true
   },
   "outputs": [
    {
     "data": {
      "text/plain": [
       "Pipeline(steps=[('features',\n",
       "                 FeatureUnion(transformer_list=[('tenure',\n",
       "                                                 Pipeline(steps=[('selector',\n",
       "                                                                  NumberSelector(key='tenure')),\n",
       "                                                                 ('standard',\n",
       "                                                                  StandardScaler())])),\n",
       "                                                ('MonthlyCharges',\n",
       "                                                 Pipeline(steps=[('selector',\n",
       "                                                                  NumberSelector(key='MonthlyCharges')),\n",
       "                                                                 ('standard',\n",
       "                                                                  StandardScaler())])),\n",
       "                                                ('TotalCharges',\n",
       "                                                 Pipeline(steps=[('selector',\n",
       "                                                                  NumberSelector(key='TotalChar...\n",
       "                               gpu_id=-1, importance_type='gain',\n",
       "                               interaction_constraints=None,\n",
       "                               learning_rate=0.300000012, max_delta_step=0,\n",
       "                               max_depth=6, min_child_weight=1, missing=nan,\n",
       "                               monotone_constraints=None, n_estimators=100,\n",
       "                               n_jobs=0, num_parallel_tree=1, random_state=0,\n",
       "                               reg_alpha=0, reg_lambda=1, scale_pos_weight=1,\n",
       "                               subsample=1, tree_method=None,\n",
       "                               validate_parameters=False, verbosity=None))])"
      ]
     },
     "execution_count": 32,
     "metadata": {},
     "output_type": "execute_result"
    }
   ],
   "source": [
    "pipeline = Pipeline([\n",
    "    ('features',feats),\n",
    "    ('classifier', xgb.XGBClassifier(**clf.best_params_)),\n",
    "])\n",
    "\n",
    "pipeline.fit(X_train, y_train)"
   ]
  },
  {
   "cell_type": "code",
   "execution_count": 33,
   "metadata": {},
   "outputs": [
    {
     "data": {
      "text/plain": [
       "XGBClassifier(base_score=0.5, booster=None, classifier__max_depth=3,\n",
       "              classifier__n_estimators=200, classifier__subsample=0.4,\n",
       "              colsample_bylevel=1, colsample_bynode=1, colsample_bytree=1,\n",
       "              gamma=0, gpu_id=-1, importance_type='gain',\n",
       "              interaction_constraints=None, learning_rate=0.300000012,\n",
       "              max_delta_step=0, max_depth=6, min_child_weight=1, missing=nan,\n",
       "              monotone_constraints=None, n_estimators=100, n_jobs=0,\n",
       "              num_parallel_tree=1, random_state=0, reg_alpha=0, reg_lambda=1,\n",
       "              scale_pos_weight=1, subsample=1, tree_method=None,\n",
       "              validate_parameters=False, verbosity=None)"
      ]
     },
     "execution_count": 33,
     "metadata": {},
     "output_type": "execute_result"
    }
   ],
   "source": [
    "pipeline.steps[1][1]"
   ]
  },
  {
   "cell_type": "code",
   "execution_count": 34,
   "metadata": {},
   "outputs": [],
   "source": [
    "def telecom_churn_prediction(algorithm, training_x, training_y, testing_x,testing_y,predictions, \n",
    "                             probabilities ,cf,threshold_plot):\n",
    "    print (\"\\n Classification report : \\n\",classification_report(testing_y,predictions))\n",
    "    print (\"Accuracy   Score : \",accuracy_score(testing_y,predictions))\n",
    "    #confusion matrix\n",
    "    conf_matrix = confusion_matrix(testing_y,predictions)\n",
    "    #roc_auc_score\n",
    "    model_roc_auc = roc_auc_score(testing_y,predictions) \n",
    "    print (\"Area under curve : \",model_roc_auc,\"\\n\")\n",
    "    fpr,tpr,thresholds = roc_curve(testing_y,probabilities[:,1])\n",
    "    \n",
    "    #plot confusion matrix\n",
    "    trace1 = go.Heatmap(z = conf_matrix ,\n",
    "                        x = [\"Not churn\",\"Churn\"],\n",
    "                        y = [\"Not churn\",\"Churn\"],\n",
    "                        showscale  = False,colorscale = \"Picnic\",\n",
    "                        name = \"matrix\")\n",
    "    \n",
    "    #plot roc curve\n",
    "    trace2 = go.Scatter(x = fpr,y = tpr,\n",
    "                        name = \"Roc : \" + str(model_roc_auc),\n",
    "                        line = dict(color = ('rgb(22, 96, 167)'),width = 2))\n",
    "    trace3 = go.Scatter(x = [0,1],y=[0,1],\n",
    "                        line = dict(color = ('rgb(205, 12, 24)'),width = 2,\n",
    "                        dash = 'dot'))\n",
    "    \n",
    "    \n",
    "    #subplots\n",
    "    fig = tls.make_subplots(rows=2, cols=2, specs=[[{}, {}], [{'colspan': 2}, None]],\n",
    "                            subplot_titles=('Confusion Matrix',\n",
    "                                            'Receiver operating characteristic'))\n",
    "    \n",
    "    fig.append_trace(trace1,1,1)\n",
    "    fig.append_trace(trace2,1,2)\n",
    "    fig.append_trace(trace3,2,1)\n",
    "    \n",
    "    fig['layout'].update(showlegend=False, title=\"Model performance\" ,\n",
    "                         autosize = False,height = 900,width = 800,\n",
    "                         plot_bgcolor = 'rgba(240,240,240, 0.95)',\n",
    "                         paper_bgcolor = 'rgba(240,240,240, 0.95)',\n",
    "                         margin = dict(b = 195))\n",
    "    fig[\"layout\"][\"xaxis2\"].update(dict(title = \"false positive rate\"))\n",
    "    fig[\"layout\"][\"yaxis2\"].update(dict(title = \"true positive rate\"))\n",
    "    fig[\"layout\"][\"xaxis3\"].update(dict(showgrid = True,tickfont = dict(size = 10),\n",
    "                                        tickangle = 90))\n",
    "    py.iplot(fig)\n",
    "    \n",
    "    if threshold_plot == True : \n",
    "        visualizer = DiscriminationThreshold(algorithm)\n",
    "        visualizer.fit(training_x,training_y)\n",
    "        visualizer.poof()"
   ]
  },
  {
   "cell_type": "code",
   "execution_count": null,
   "metadata": {},
   "outputs": [],
   "source": []
  },
  {
   "cell_type": "code",
   "execution_count": 35,
   "metadata": {
    "scrolled": false
   },
   "outputs": [
    {
     "name": "stdout",
     "output_type": "stream",
     "text": [
      "\n",
      " Classification report : \n",
      "               precision    recall  f1-score   support\n",
      "\n",
      "           0       0.84      0.87      0.85      1711\n",
      "           1       0.60      0.53      0.56       610\n",
      "\n",
      "    accuracy                           0.78      2321\n",
      "   macro avg       0.72      0.70      0.71      2321\n",
      "weighted avg       0.77      0.78      0.78      2321\n",
      "\n",
      "Accuracy   Score :  0.7815596725549332\n",
      "Area under curve :  0.699936764043652 \n",
      "\n"
     ]
    },
    {
     "name": "stderr",
     "output_type": "stream",
     "text": [
      "/Users/artemzraev/anaconda3/lib/python3.7/site-packages/plotly/tools.py:465: DeprecationWarning:\n",
      "\n",
      "plotly.tools.make_subplots is deprecated, please use plotly.subplots.make_subplots instead\n",
      "\n"
     ]
    },
    {
     "data": {
      "application/vnd.plotly.v1+json": {
       "config": {
        "linkText": "Export to plot.ly",
        "plotlyServerURL": "https://plot.ly",
        "showLink": false
       },
       "data": [
        {
         "colorscale": [
          [
           0,
           "rgb(0,0,255)"
          ],
          [
           0.1,
           "rgb(51,153,255)"
          ],
          [
           0.2,
           "rgb(102,204,255)"
          ],
          [
           0.3,
           "rgb(153,204,255)"
          ],
          [
           0.4,
           "rgb(204,204,255)"
          ],
          [
           0.5,
           "rgb(255,255,255)"
          ],
          [
           0.6,
           "rgb(255,204,255)"
          ],
          [
           0.7,
           "rgb(255,153,255)"
          ],
          [
           0.8,
           "rgb(255,102,204)"
          ],
          [
           0.9,
           "rgb(255,102,102)"
          ],
          [
           1,
           "rgb(255,0,0)"
          ]
         ],
         "name": "matrix",
         "showscale": false,
         "type": "heatmap",
         "x": [
          "Not churn",
          "Churn"
         ],
         "xaxis": "x",
         "y": [
          "Not churn",
          "Churn"
         ],
         "yaxis": "y",
         "z": [
          [
           1492,
           219
          ],
          [
           288,
           322
          ]
         ]
        },
        {
         "line": {
          "color": "rgb(22, 96, 167)",
          "width": 2
         },
         "name": "Roc : 0.699936764043652",
         "type": "scatter",
         "x": [
          0,
          0,
          0,
          0.0005844535359438924,
          0.0005844535359438924,
          0.0017533606078316774,
          0.0017533606078316774,
          0.0023378141437755697,
          0.0023378141437755697,
          0.0023378141437755697,
          0.0023378141437755697,
          0.0029222676797194622,
          0.0029222676797194622,
          0.0035067212156633548,
          0.0035067212156633548,
          0.004675628287551139,
          0.004675628287551139,
          0.005260081823495032,
          0.005260081823495032,
          0.0058445353594389245,
          0.0058445353594389245,
          0.006428988895382817,
          0.006428988895382817,
          0.0070134424313267095,
          0.0070134424313267095,
          0.0070134424313267095,
          0.0070134424313267095,
          0.007597895967270602,
          0.007597895967270602,
          0.008182349503214495,
          0.008182349503214495,
          0.008766803039158387,
          0.008766803039158387,
          0.009351256575102279,
          0.009351256575102279,
          0.009935710111046173,
          0.009935710111046173,
          0.011104617182933957,
          0.011104617182933957,
          0.012273524254821741,
          0.012273524254821741,
          0.012857977790765635,
          0.012857977790765635,
          0.013442431326709527,
          0.013442431326709527,
          0.014026884862653419,
          0.014026884862653419,
          0.014611338398597311,
          0.014611338398597311,
          0.01636469900642899,
          0.01636469900642899,
          0.018702513150204558,
          0.018702513150204558,
          0.01928696668614845,
          0.01928696668614845,
          0.019871420222092345,
          0.019871420222092345,
          0.020455873758036237,
          0.020455873758036237,
          0.02104032729398013,
          0.02104032729398013,
          0.022209234365867914,
          0.022209234365867914,
          0.022793687901811806,
          0.022793687901811806,
          0.023378141437755698,
          0.023378141437755698,
          0.02396259497369959,
          0.02396259497369959,
          0.024547048509643482,
          0.024547048509643482,
          0.026884862653419054,
          0.026884862653419054,
          0.028053769725306838,
          0.028053769725306838,
          0.02863822326125073,
          0.02863822326125073,
          0.029807130333138514,
          0.029807130333138514,
          0.030391583869082407,
          0.030391583869082407,
          0.031560490940970194,
          0.031560490940970194,
          0.032144944476914086,
          0.032144944476914086,
          0.03331385154880187,
          0.03331385154880187,
          0.03389830508474576,
          0.03389830508474576,
          0.034482758620689655,
          0.034482758620689655,
          0.03506721215663355,
          0.03506721215663355,
          0.03623611922852133,
          0.03623611922852133,
          0.037405026300409115,
          0.03798947983635301,
          0.03798947983635301,
          0.0385739333722969,
          0.0385739333722969,
          0.03915838690824079,
          0.03915838690824079,
          0.03974284044418469,
          0.03974284044418469,
          0.04208065458796026,
          0.04208065458796026,
          0.043834015195791935,
          0.043834015195791935,
          0.04441846873173583,
          0.04441846873173583,
          0.04500292226767972,
          0.04500292226767972,
          0.04558737580362361,
          0.04558737580362361,
          0.046171829339567504,
          0.046171829339567504,
          0.046756282875511396,
          0.046756282875511396,
          0.04734073641145529,
          0.04734073641145529,
          0.049094097019286964,
          0.049094097019286964,
          0.05143191116306254,
          0.05143191116306254,
          0.05493863237872589,
          0.05493863237872589,
          0.05493863237872589,
          0.056107539450613676,
          0.056107539450613676,
          0.05727644652250146,
          0.05727644652250146,
          0.05902980713033314,
          0.05902980713033314,
          0.06019871420222092,
          0.06019871420222092,
          0.06078316773816481,
          0.061367621274108705,
          0.06253652834599649,
          0.06253652834599649,
          0.06312098188194039,
          0.06312098188194039,
          0.06370543541788427,
          0.06370543541788427,
          0.06487434248977206,
          0.06487434248977206,
          0.06604324956165984,
          0.06604324956165984,
          0.06721215663354763,
          0.06721215663354763,
          0.06838106370543542,
          0.06838106370543542,
          0.06954997077732321,
          0.06954997077732321,
          0.07071887784921099,
          0.07071887784921099,
          0.07305669199298656,
          0.07305669199298656,
          0.07364114552893045,
          0.07364114552893045,
          0.07539450613676213,
          0.07539450613676213,
          0.0771478667445938,
          0.0771478667445938,
          0.08065458796025717,
          0.08065458796025717,
          0.08123904149620105,
          0.08123904149620105,
          0.08182349503214495,
          0.08182349503214495,
          0.08299240210403273,
          0.08299240210403273,
          0.0853302162478083,
          0.0853302162478083,
          0.08591466978375219,
          0.08591466978375219,
          0.08649912331969609,
          0.08649912331969609,
          0.08708357685563997,
          0.08708357685563997,
          0.08883693746347165,
          0.08883693746347165,
          0.09000584453535944,
          0.09000584453535944,
          0.09117475160724722,
          0.09117475160724722,
          0.09351256575102279,
          0.09351256575102279,
          0.09409701928696669,
          0.09409701928696669,
          0.09526592635885447,
          0.09526592635885447,
          0.09585037989479836,
          0.09585037989479836,
          0.09701928696668614,
          0.09701928696668614,
          0.09760374050263004,
          0.09760374050263004,
          0.09818819403857393,
          0.09818819403857393,
          0.09935710111046171,
          0.09935710111046171,
          0.09994155464640561,
          0.09994155464640561,
          0.1005260081823495,
          0.1005260081823495,
          0.1011104617182934,
          0.1011104617182934,
          0.1016949152542373,
          0.1016949152542373,
          0.10227936879018118,
          0.10227936879018118,
          0.10286382232612508,
          0.10286382232612508,
          0.10344827586206896,
          0.10344827586206896,
          0.10520163646990065,
          0.10520163646990065,
          0.10753945061367622,
          0.10753945061367622,
          0.11163062536528345,
          0.11163062536528345,
          0.11221507890122735,
          0.11221507890122735,
          0.1157218001168907,
          0.1157218001168907,
          0.11689070718877849,
          0.11689070718877849,
          0.11805961426066627,
          0.11805961426066627,
          0.11981297486849796,
          0.11981297486849796,
          0.12215078901227353,
          0.12215078901227353,
          0.12273524254821741,
          0.12273524254821741,
          0.12331969608416131,
          0.12331969608416131,
          0.12390414962010521,
          0.12390414962010521,
          0.12624196376388078,
          0.12624196376388078,
          0.12799532437171246,
          0.12799532437171246,
          0.12857977790765635,
          0.12857977790765635,
          0.13442431326709525,
          0.13442431326709525,
          0.13676212741087085,
          0.13676212741087085,
          0.13734658094681473,
          0.13734658094681473,
          0.13793103448275862,
          0.13793103448275862,
          0.13909994155464642,
          0.13909994155464642,
          0.14202220923436587,
          0.14202220923436587,
          0.14436002337814144,
          0.14436002337814144,
          0.14611338398597312,
          0.14611338398597312,
          0.146697837521917,
          0.146697837521917,
          0.1478667445938048,
          0.1478667445938048,
          0.1484511981297487,
          0.1484511981297487,
          0.14903565166569258,
          0.14903565166569258,
          0.14962010520163646,
          0.14962010520163646,
          0.15254237288135594,
          0.15254237288135594,
          0.15312682641729983,
          0.15312682641729983,
          0.1537112799532437,
          0.1537112799532437,
          0.1548801870251315,
          0.1548801870251315,
          0.1554646405610754,
          0.1554646405610754,
          0.15780245470485096,
          0.15780245470485096,
          0.15838690824079485,
          0.15838690824079485,
          0.15897136177673876,
          0.15897136177673876,
          0.15955581531268265,
          0.15955581531268265,
          0.16072472238457042,
          0.16072472238457042,
          0.16423144360023378,
          0.16423144360023378,
          0.16540035067212155,
          0.16540035067212155,
          0.16715371127995324,
          0.16715371127995324,
          0.16773816481589712,
          0.16773816481589712,
          0.16832261835184104,
          0.16890707188778492,
          0.16890707188778492,
          0.1694915254237288,
          0.1694915254237288,
          0.1712448860315605,
          0.1712448860315605,
          0.17182933956750437,
          0.17182933956750437,
          0.17475160724722386,
          0.17475160724722386,
          0.1782583284628872,
          0.1782583284628872,
          0.17884278199883108,
          0.17884278199883108,
          0.179427235534775,
          0.179427235534775,
          0.18059614260666276,
          0.18059614260666276,
          0.18118059614260668,
          0.18118059614260668,
          0.18351841028638224,
          0.18351841028638224,
          0.18410286382232613,
          0.18410286382232613,
          0.18468731735827001,
          0.18468731735827001,
          0.1864406779661017,
          0.1864406779661017,
          0.1934541203974284,
          0.1934541203974284,
          0.1946230274693162,
          0.1946230274693162,
          0.19579193454120397,
          0.19579193454120397,
          0.19812974868497954,
          0.19929865575686734,
          0.201052016364699,
          0.201052016364699,
          0.2022209234365868,
          0.2022209234365868,
          0.20397428404441847,
          0.20397428404441847,
          0.20572764465225016,
          0.20572764465225016,
          0.20689655172413793,
          0.20689655172413793,
          0.2074810052600818,
          0.2074810052600818,
          0.2092343658679135,
          0.2092343658679135,
          0.21098772647574518,
          0.21098772647574518,
          0.21274108708357686,
          0.21274108708357686,
          0.21683226183518411,
          0.21683226183518411,
          0.21917007597895968,
          0.21917007597895968,
          0.22150789012273525,
          0.22150789012273525,
          0.2250146113383986,
          0.2250146113383986,
          0.22676797194623027,
          0.22676797194623027,
          0.22735242548217416,
          0.22735242548217416,
          0.22852133255406196,
          0.22852133255406196,
          0.22910578609000584,
          0.22910578609000584,
          0.2314436002337814,
          0.2314436002337814,
          0.2331969608416131,
          0.2331969608416131,
          0.23553477498538866,
          0.23553477498538866,
          0.23845704266510812,
          0.23845704266510812,
          0.2402104032729398,
          0.2402104032729398,
          0.24547048509643482,
          0.24663939216832262,
          0.25073056691992984,
          0.25073056691992984,
          0.25189947399181767,
          0.25189947399181767,
          0.25248392752776155,
          0.25248392752776155,
          0.2536528345996493,
          0.2536528345996493,
          0.2577440093512566,
          0.2577440093512566,
          0.26008182349503217,
          0.26008182349503217,
          0.26066627703097606,
          0.26066627703097606,
          0.2630040911747516,
          0.2630040911747516,
          0.26417299824663937,
          0.26417299824663937,
          0.2653419053185272,
          0.2653419053185272,
          0.2682641729982466,
          0.2682641729982466,
          0.2711864406779661,
          0.2711864406779661,
          0.27177089421391,
          0.27177089421391,
          0.27235534774985387,
          0.27235534774985387,
          0.27527761542957335,
          0.27527761542957335,
          0.27586206896551724,
          0.27586206896551724,
          0.2764465225014611,
          0.2764465225014611,
          0.28170660432495614,
          0.28170660432495614,
          0.28287551139684397,
          0.28287551139684397,
          0.28404441846873174,
          0.28404441846873174,
          0.2852133255406195,
          0.2852133255406195,
          0.2887200467562829,
          0.2887200467562829,
          0.2910578609000584,
          0.2910578609000584,
          0.29222676797194624,
          0.29222676797194624,
          0.293395675043834,
          0.293395675043834,
          0.2957334891876096,
          0.2957334891876096,
          0.29865575686732904,
          0.29865575686732904,
          0.30099357101110463,
          0.30099357101110463,
          0.3015780245470485,
          0.3015780245470485,
          0.3033313851548802,
          0.3033313851548802,
          0.30625365283459965,
          0.30625365283459965,
          0.3080070134424313,
          0.3080070134424313,
          0.3085914669783752,
          0.3085914669783752,
          0.3115137346580947,
          0.3115137346580947,
          0.31326709526592633,
          0.31326709526592633,
          0.3138515488018703,
          0.31443600233781416,
          0.31443600233781416,
          0.3167738164815897,
          0.3167738164815897,
          0.3196960841613092,
          0.3196960841613092,
          0.32028053769725306,
          0.32144944476914084,
          0.32144944476914084,
          0.3243717124488603,
          0.3243717124488603,
          0.3255406195207481,
          0.3255406195207481,
          0.3267095265926359,
          0.3267095265926359,
          0.3278784336645237,
          0.3278784336645237,
          0.32904734073641145,
          0.32904734073641145,
          0.3302162478082992,
          0.3302162478082992,
          0.33196960841613093,
          0.33196960841613093,
          0.3325540619520748,
          0.3325540619520748,
          0.33547632963179425,
          0.33547632963179425,
          0.33781414377556984,
          0.33781414377556984,
          0.3383985973115137,
          0.3383985973115137,
          0.34015195791934544,
          0.34015195791934544,
          0.34424313267095263,
          0.34424313267095263,
          0.35359438924605496,
          0.35359438924605496,
          0.3582700175336061,
          0.3582700175336061,
          0.36060783167738164,
          0.36060783167738164,
          0.3617767387492694,
          0.3617767387492694,
          0.36586791350087666,
          0.36586791350087666,
          0.36820572764465226,
          0.36820572764465226,
          0.36879018118059614,
          0.36879018118059614,
          0.3705435417884278,
          0.3705435417884278,
          0.37755698421975453,
          0.37755698421975453,
          0.3781414377556984,
          0.3781414377556984,
          0.3793103448275862,
          0.3793103448275862,
          0.38223261250730567,
          0.38223261250730567,
          0.3869082407948568,
          0.3869082407948568,
          0.3874926943308007,
          0.3874926943308007,
          0.3892460549386324,
          0.3892460549386324,
          0.3898305084745763,
          0.3898305084745763,
          0.3904149620105202,
          0.3904149620105202,
          0.39158386908240794,
          0.39158386908240794,
          0.3956750438340152,
          0.3956750438340152,
          0.4015195791934541,
          0.4015195791934541,
          0.40736411455289306,
          0.40736411455289306,
          0.40853302162478083,
          0.40853302162478083,
          0.4126241963763881,
          0.4126241963763881,
          0.41379310344827586,
          0.41379310344827586,
          0.4202220923436587,
          0.4202220923436587,
          0.42255990648743424,
          0.42255990648743424,
          0.42489772063120984,
          0.42489772063120984,
          0.4266510812390415,
          0.4266510812390415,
          0.43074225599064875,
          0.43074225599064875,
          0.43717124488603154,
          0.43717124488603154,
          0.4412624196376388,
          0.4412624196376388,
          0.4418468731735827,
          0.4418468731735827,
          0.4441846873173583,
          0.4441846873173583,
          0.4494447691408533,
          0.4494447691408533,
          0.4552893045002922,
          0.4552893045002922,
          0.45879602571595557,
          0.45879602571595557,
          0.4605493863237873,
          0.4605493863237873,
          0.46230274693161894,
          0.46230274693161894,
          0.4652250146113384,
          0.4652250146113384,
          0.46814728229105784,
          0.46814728229105784,
          0.46990064289888955,
          0.46990064289888955,
          0.4722384570426651,
          0.4722384570426651,
          0.472822910578609,
          0.472822910578609,
          0.4774985388661601,
          0.4774985388661601,
          0.48743424897720633,
          0.48743424897720633,
          0.49094097019286964,
          0.49094097019286964,
          0.49210987726475747,
          0.49210987726475747,
          0.49327878433664524,
          0.49327878433664524,
          0.49561659848042083,
          0.49561659848042083,
          0.49970777323202803,
          0.49970777323202803,
          0.5026300409117476,
          0.5026300409117476,
          0.5073056691992986,
          0.5073056691992986,
          0.5078901227352426,
          0.5078901227352426,
          0.5113968439509059,
          0.5113968439509059,
          0.5143191116306254,
          0.5143191116306254,
          0.5172413793103449,
          0.5172413793103449,
          0.5184102863822326,
          0.5184102863822326,
          0.5207481005260082,
          0.5207481005260082,
          0.5236703682057277,
          0.5236703682057277,
          0.5283459964932787,
          0.5283459964932787,
          0.5394506136762127,
          0.5394506136762127,
          0.5400350672121567,
          0.5400350672121567,
          0.5429573348918761,
          0.5429573348918761,
          0.5476329631794272,
          0.5476329631794272,
          0.5523085914669784,
          0.5523085914669784,
          0.5569842197545295,
          0.5569842197545295,
          0.5610753945061367,
          0.5610753945061367,
          0.5622443015780245,
          0.5622443015780245,
          0.5657510227936879,
          0.5657510227936879,
          0.5745178258328463,
          0.5745178258328463,
          0.5768556399766218,
          0.5768556399766218,
          0.5821157218001168,
          0.5821157218001168,
          0.5990648743424898,
          0.5990648743424898,
          0.5996493278784336,
          0.5996493278784336,
          0.6002337814143776,
          0.6002337814143776,
          0.6049094097019287,
          0.6060783167738165,
          0.6113383985973115,
          0.6113383985973115,
          0.6154295733489188,
          0.6154295733489188,
          0.6253652834599649,
          0.6253652834599649,
          0.635885447106955,
          0.635885447106955,
          0.6399766218585622,
          0.6399766218585622,
          0.6446522501461134,
          0.6446522501461134,
          0.679135008766803,
          0.679135008766803,
          0.6797194623027469,
          0.6797194623027469,
          0.6890707188778492,
          0.6890707188778492,
          0.6972530683810637,
          0.6972530683810637,
          0.72822910578609,
          0.72822910578609,
          0.7293980128579778,
          0.7293980128579778,
          0.7451782583284629,
          0.7451782583284629,
          0.7784921098772648,
          0.7784921098772648,
          0.7802454704850964,
          0.7802454704850964,
          0.7948568088836937,
          0.7948568088836937,
          0.7966101694915254,
          0.7966101694915254,
          0.820572764465225,
          0.820572764465225,
          0.8568088836937463,
          0.8568088836937463,
          0.8702513150204558,
          0.8702513150204558,
          0.9018118059614261,
          0.9018118059614261,
          0.9684395090590298,
          0.9696084161309176,
          0.972530683810637,
          0.972530683810637,
          0.9883109292811222,
          0.98947983635301,
          1
         ],
         "xaxis": "x2",
         "y": [
          0,
          0.001639344262295082,
          0.021311475409836064,
          0.021311475409836064,
          0.02622950819672131,
          0.02622950819672131,
          0.027868852459016394,
          0.027868852459016394,
          0.029508196721311476,
          0.036065573770491806,
          0.04426229508196721,
          0.05245901639344262,
          0.054098360655737705,
          0.054098360655737705,
          0.05573770491803279,
          0.05573770491803279,
          0.06229508196721312,
          0.06229508196721312,
          0.07049180327868852,
          0.07049180327868852,
          0.07213114754098361,
          0.07213114754098361,
          0.07540983606557378,
          0.07540983606557378,
          0.08360655737704918,
          0.08688524590163935,
          0.09508196721311475,
          0.09508196721311475,
          0.10327868852459017,
          0.10327868852459017,
          0.10655737704918032,
          0.10655737704918032,
          0.10819672131147541,
          0.10819672131147541,
          0.12950819672131147,
          0.13114754098360656,
          0.1360655737704918,
          0.1360655737704918,
          0.14262295081967213,
          0.14262295081967213,
          0.14426229508196722,
          0.14426229508196722,
          0.14590163934426228,
          0.14590163934426228,
          0.14918032786885246,
          0.14918032786885246,
          0.15081967213114755,
          0.15081967213114755,
          0.16721311475409836,
          0.16721311475409836,
          0.16885245901639345,
          0.16885245901639345,
          0.17049180327868851,
          0.17049180327868851,
          0.17540983606557378,
          0.17540983606557378,
          0.17704918032786884,
          0.17704918032786884,
          0.18032786885245902,
          0.18032786885245902,
          0.18360655737704917,
          0.18360655737704917,
          0.1901639344262295,
          0.1901639344262295,
          0.1918032786885246,
          0.1918032786885246,
          0.19672131147540983,
          0.19672131147540983,
          0.19836065573770492,
          0.19836065573770492,
          0.2180327868852459,
          0.2180327868852459,
          0.22459016393442624,
          0.22459016393442624,
          0.23442622950819672,
          0.23442622950819672,
          0.2360655737704918,
          0.2360655737704918,
          0.24754098360655738,
          0.24754098360655738,
          0.25081967213114753,
          0.25081967213114753,
          0.25245901639344265,
          0.25245901639344265,
          0.2540983606557377,
          0.2540983606557377,
          0.25573770491803277,
          0.25573770491803277,
          0.25901639344262295,
          0.25901639344262295,
          0.260655737704918,
          0.260655737704918,
          0.2721311475409836,
          0.2721311475409836,
          0.2754098360655738,
          0.2754098360655738,
          0.2786885245901639,
          0.2819672131147541,
          0.2819672131147541,
          0.2836065573770492,
          0.2836065573770492,
          0.28688524590163933,
          0.28688524590163933,
          0.29180327868852457,
          0.29180327868852457,
          0.2934426229508197,
          0.2934426229508197,
          0.2967213114754098,
          0.2967213114754098,
          0.2983606557377049,
          0.2983606557377049,
          0.3016393442622951,
          0.3016393442622951,
          0.30983606557377047,
          0.30983606557377047,
          0.3114754098360656,
          0.3114754098360656,
          0.31475409836065577,
          0.31475409836065577,
          0.3180327868852459,
          0.3180327868852459,
          0.3295081967213115,
          0.3295081967213115,
          0.33114754098360655,
          0.33114754098360655,
          0.34918032786885245,
          0.3524590163934426,
          0.3524590163934426,
          0.3557377049180328,
          0.3557377049180328,
          0.3639344262295082,
          0.3639344262295082,
          0.3655737704918033,
          0.3655737704918033,
          0.36721311475409835,
          0.36721311475409835,
          0.36885245901639346,
          0.36885245901639346,
          0.3721311475409836,
          0.3721311475409836,
          0.3737704918032787,
          0.3737704918032787,
          0.380327868852459,
          0.380327868852459,
          0.38524590163934425,
          0.38524590163934425,
          0.3885245901639344,
          0.3885245901639344,
          0.39344262295081966,
          0.39344262295081966,
          0.3950819672131147,
          0.3950819672131147,
          0.3983606557377049,
          0.3983606557377049,
          0.4,
          0.4,
          0.40491803278688526,
          0.4065573770491803,
          0.4081967213114754,
          0.4081967213114754,
          0.4098360655737705,
          0.4098360655737705,
          0.4131147540983607,
          0.4131147540983607,
          0.41475409836065574,
          0.41475409836065574,
          0.42131147540983604,
          0.42131147540983604,
          0.4262295081967213,
          0.4262295081967213,
          0.4278688524590164,
          0.4278688524590164,
          0.42950819672131146,
          0.42950819672131146,
          0.4311475409836066,
          0.4311475409836066,
          0.4344262295081967,
          0.4344262295081967,
          0.4377049180327869,
          0.4377049180327869,
          0.43934426229508194,
          0.43934426229508194,
          0.44098360655737706,
          0.44098360655737706,
          0.4426229508196721,
          0.4426229508196721,
          0.44754098360655736,
          0.44754098360655736,
          0.45081967213114754,
          0.45081967213114754,
          0.4540983606557377,
          0.4540983606557377,
          0.45737704918032784,
          0.45737704918032784,
          0.45901639344262296,
          0.45901639344262296,
          0.46557377049180326,
          0.46557377049180326,
          0.46885245901639344,
          0.46885245901639344,
          0.4704918032786885,
          0.4704918032786885,
          0.4737704918032787,
          0.4737704918032787,
          0.47704918032786886,
          0.47704918032786886,
          0.4786885245901639,
          0.4786885245901639,
          0.48032786885245904,
          0.48032786885245904,
          0.4819672131147541,
          0.4819672131147541,
          0.48360655737704916,
          0.48360655737704916,
          0.48688524590163934,
          0.48688524590163934,
          0.4901639344262295,
          0.4901639344262295,
          0.4918032786885246,
          0.4918032786885246,
          0.49508196721311476,
          0.49508196721311476,
          0.49836065573770494,
          0.49836065573770494,
          0.5016393442622951,
          0.5032786885245901,
          0.5049180327868853,
          0.5049180327868853,
          0.5065573770491804,
          0.5065573770491804,
          0.5114754098360655,
          0.5114754098360655,
          0.5147540983606558,
          0.5147540983606558,
          0.519672131147541,
          0.521311475409836,
          0.5229508196721312,
          0.5229508196721312,
          0.5245901639344263,
          0.5245901639344263,
          0.5262295081967213,
          0.5262295081967213,
          0.5278688524590164,
          0.5278688524590164,
          0.5311475409836065,
          0.5311475409836065,
          0.5344262295081967,
          0.5344262295081967,
          0.5409836065573771,
          0.5409836065573771,
          0.5426229508196722,
          0.5426229508196722,
          0.5442622950819672,
          0.5442622950819672,
          0.5459016393442623,
          0.5459016393442623,
          0.5475409836065573,
          0.5475409836065573,
          0.5491803278688525,
          0.5491803278688525,
          0.5508196721311476,
          0.5508196721311476,
          0.5524590163934426,
          0.5524590163934426,
          0.5557377049180328,
          0.5557377049180328,
          0.5655737704918032,
          0.5655737704918032,
          0.5672131147540984,
          0.5672131147540984,
          0.5688524590163935,
          0.5688524590163935,
          0.5704918032786885,
          0.5704918032786885,
          0.5754098360655737,
          0.5754098360655737,
          0.580327868852459,
          0.580327868852459,
          0.5819672131147541,
          0.5819672131147541,
          0.5836065573770491,
          0.5836065573770491,
          0.5852459016393443,
          0.5852459016393443,
          0.5868852459016394,
          0.5868852459016394,
          0.5885245901639344,
          0.5885245901639344,
          0.5901639344262295,
          0.5901639344262295,
          0.5934426229508196,
          0.5934426229508196,
          0.5967213114754099,
          0.5967213114754099,
          0.5983606557377049,
          0.5983606557377049,
          0.6049180327868853,
          0.6049180327868853,
          0.6065573770491803,
          0.6065573770491803,
          0.6081967213114754,
          0.6098360655737705,
          0.6098360655737705,
          0.6131147540983607,
          0.6131147540983607,
          0.6147540983606558,
          0.6147540983606558,
          0.6163934426229508,
          0.6163934426229508,
          0.6196721311475409,
          0.6196721311475409,
          0.6213114754098361,
          0.6213114754098361,
          0.6245901639344262,
          0.6245901639344262,
          0.6262295081967213,
          0.6262295081967213,
          0.6278688524590164,
          0.6278688524590164,
          0.6295081967213115,
          0.6295081967213115,
          0.6311475409836066,
          0.6311475409836066,
          0.6327868852459017,
          0.6327868852459017,
          0.6360655737704918,
          0.6360655737704918,
          0.6377049180327868,
          0.6377049180327868,
          0.6409836065573771,
          0.6409836065573771,
          0.6442622950819672,
          0.6442622950819672,
          0.6459016393442623,
          0.6459016393442623,
          0.6459016393442623,
          0.6459016393442623,
          0.6475409836065574,
          0.6475409836065574,
          0.6491803278688525,
          0.6491803278688525,
          0.6508196721311476,
          0.6508196721311476,
          0.6524590163934426,
          0.6524590163934426,
          0.6540983606557377,
          0.6540983606557377,
          0.6557377049180327,
          0.6557377049180327,
          0.6573770491803279,
          0.6573770491803279,
          0.659016393442623,
          0.659016393442623,
          0.6655737704918033,
          0.6655737704918033,
          0.6672131147540984,
          0.6672131147540984,
          0.6704918032786885,
          0.6704918032786885,
          0.6786885245901639,
          0.6786885245901639,
          0.6819672131147541,
          0.6819672131147541,
          0.6852459016393443,
          0.6852459016393443,
          0.6868852459016394,
          0.6868852459016394,
          0.6885245901639344,
          0.6885245901639344,
          0.6901639344262295,
          0.6901639344262295,
          0.6918032786885245,
          0.6918032786885245,
          0.6967213114754098,
          0.6967213114754098,
          0.6983606557377049,
          0.6983606557377049,
          0.7016393442622951,
          0.7016393442622951,
          0.7032786885245902,
          0.7032786885245902,
          0.7032786885245902,
          0.7032786885245902,
          0.7049180327868853,
          0.7049180327868853,
          0.7065573770491803,
          0.7065573770491803,
          0.7081967213114754,
          0.7081967213114754,
          0.7098360655737705,
          0.7098360655737705,
          0.7114754098360656,
          0.7114754098360656,
          0.7131147540983607,
          0.7131147540983607,
          0.7180327868852459,
          0.7180327868852459,
          0.719672131147541,
          0.719672131147541,
          0.7213114754098361,
          0.7213114754098361,
          0.7229508196721312,
          0.7229508196721312,
          0.7262295081967213,
          0.7262295081967213,
          0.7278688524590164,
          0.7278688524590164,
          0.7295081967213115,
          0.7295081967213115,
          0.7327868852459016,
          0.7327868852459016,
          0.7360655737704918,
          0.7360655737704918,
          0.7377049180327869,
          0.7377049180327869,
          0.739344262295082,
          0.739344262295082,
          0.740983606557377,
          0.740983606557377,
          0.7475409836065574,
          0.7475409836065574,
          0.7491803278688525,
          0.7491803278688525,
          0.7557377049180328,
          0.7557377049180328,
          0.759016393442623,
          0.759016393442623,
          0.760655737704918,
          0.760655737704918,
          0.7622950819672131,
          0.7622950819672131,
          0.7639344262295082,
          0.7639344262295082,
          0.7655737704918033,
          0.7655737704918033,
          0.7672131147540984,
          0.7672131147540984,
          0.7704918032786885,
          0.7704918032786885,
          0.7721311475409836,
          0.7721311475409836,
          0.7737704918032787,
          0.7737704918032787,
          0.7754098360655738,
          0.7754098360655738,
          0.7770491803278688,
          0.7770491803278688,
          0.7786885245901639,
          0.7786885245901639,
          0.7819672131147541,
          0.7819672131147541,
          0.7836065573770492,
          0.7852459016393443,
          0.7852459016393443,
          0.7885245901639344,
          0.7885245901639344,
          0.7901639344262295,
          0.7901639344262295,
          0.7918032786885246,
          0.7934426229508197,
          0.7934426229508197,
          0.7967213114754098,
          0.7967213114754098,
          0.7983606557377049,
          0.7983606557377049,
          0.8,
          0.8,
          0.8016393442622951,
          0.8016393442622951,
          0.8032786885245902,
          0.8032786885245902,
          0.8049180327868852,
          0.8049180327868852,
          0.8065573770491803,
          0.8065573770491803,
          0.8114754098360656,
          0.8114754098360656,
          0.8180327868852459,
          0.8180327868852459,
          0.819672131147541,
          0.819672131147541,
          0.8213114754098361,
          0.8213114754098361,
          0.8229508196721311,
          0.8229508196721311,
          0.8245901639344262,
          0.8245901639344262,
          0.8262295081967214,
          0.8262295081967214,
          0.8278688524590164,
          0.8278688524590164,
          0.8311475409836065,
          0.8311475409836065,
          0.8344262295081967,
          0.8344262295081967,
          0.8360655737704918,
          0.8360655737704918,
          0.8377049180327869,
          0.8377049180327869,
          0.839344262295082,
          0.839344262295082,
          0.840983606557377,
          0.840983606557377,
          0.8426229508196721,
          0.8426229508196721,
          0.8442622950819673,
          0.8442622950819673,
          0.8459016393442623,
          0.8459016393442623,
          0.8475409836065574,
          0.8475409836065574,
          0.8508196721311475,
          0.8508196721311475,
          0.8524590163934426,
          0.8524590163934426,
          0.8540983606557377,
          0.8540983606557377,
          0.8557377049180328,
          0.8557377049180328,
          0.8573770491803279,
          0.8573770491803279,
          0.8590163934426229,
          0.8590163934426229,
          0.860655737704918,
          0.860655737704918,
          0.8622950819672132,
          0.8622950819672132,
          0.8639344262295082,
          0.8639344262295082,
          0.8655737704918033,
          0.8655737704918033,
          0.8672131147540983,
          0.8672131147540983,
          0.8688524590163934,
          0.8688524590163934,
          0.8704918032786885,
          0.8704918032786885,
          0.8721311475409836,
          0.8721311475409836,
          0.8737704918032787,
          0.8737704918032787,
          0.8754098360655738,
          0.8754098360655738,
          0.8770491803278688,
          0.8770491803278688,
          0.8786885245901639,
          0.8786885245901639,
          0.8803278688524591,
          0.8803278688524591,
          0.8836065573770492,
          0.8836065573770492,
          0.8852459016393442,
          0.8852459016393442,
          0.8868852459016393,
          0.8868852459016393,
          0.8885245901639345,
          0.8885245901639345,
          0.8901639344262295,
          0.8901639344262295,
          0.8918032786885246,
          0.8918032786885246,
          0.8934426229508197,
          0.8934426229508197,
          0.8950819672131147,
          0.8950819672131147,
          0.8967213114754098,
          0.8967213114754098,
          0.898360655737705,
          0.898360655737705,
          0.9,
          0.9,
          0.9016393442622951,
          0.9016393442622951,
          0.9032786885245901,
          0.9032786885245901,
          0.9049180327868852,
          0.9049180327868852,
          0.9065573770491804,
          0.9065573770491804,
          0.9081967213114754,
          0.9081967213114754,
          0.9098360655737705,
          0.9098360655737705,
          0.9114754098360656,
          0.9114754098360656,
          0.9131147540983606,
          0.9131147540983606,
          0.9147540983606557,
          0.9147540983606557,
          0.9163934426229509,
          0.9163934426229509,
          0.9180327868852459,
          0.9180327868852459,
          0.919672131147541,
          0.919672131147541,
          0.921311475409836,
          0.921311475409836,
          0.9229508196721311,
          0.9229508196721311,
          0.9245901639344263,
          0.9245901639344263,
          0.9278688524590164,
          0.9278688524590164,
          0.9295081967213115,
          0.9295081967213115,
          0.9311475409836065,
          0.9311475409836065,
          0.9327868852459016,
          0.9327868852459016,
          0.9344262295081968,
          0.9344262295081968,
          0.9360655737704918,
          0.9360655737704918,
          0.9377049180327869,
          0.9377049180327869,
          0.9393442622950819,
          0.9393442622950819,
          0.940983606557377,
          0.940983606557377,
          0.9426229508196722,
          0.9426229508196722,
          0.9442622950819672,
          0.9442622950819672,
          0.9459016393442623,
          0.9459016393442623,
          0.9475409836065574,
          0.9475409836065574,
          0.9491803278688524,
          0.9491803278688524,
          0.9508196721311475,
          0.9508196721311475,
          0.9524590163934427,
          0.9524590163934427,
          0.9557377049180328,
          0.9557377049180328,
          0.9573770491803278,
          0.9573770491803278,
          0.9590163934426229,
          0.9590163934426229,
          0.9590163934426229,
          0.9590163934426229,
          0.9606557377049181,
          0.9606557377049181,
          0.9622950819672131,
          0.9622950819672131,
          0.9655737704918033,
          0.9655737704918033,
          0.9672131147540983,
          0.9672131147540983,
          0.9688524590163935,
          0.9688524590163935,
          0.9704918032786886,
          0.9704918032786886,
          0.9721311475409836,
          0.9721311475409836,
          0.9737704918032787,
          0.9737704918032787,
          0.9754098360655737,
          0.9754098360655737,
          0.9770491803278688,
          0.9770491803278688,
          0.978688524590164,
          0.978688524590164,
          0.980327868852459,
          0.980327868852459,
          0.9819672131147541,
          0.9819672131147541,
          0.9836065573770492,
          0.9836065573770492,
          0.9852459016393442,
          0.9852459016393442,
          0.9868852459016394,
          0.9868852459016394,
          0.9885245901639345,
          0.9885245901639345,
          0.9901639344262295,
          0.9901639344262295,
          0.9934426229508196,
          0.9934426229508196,
          0.9950819672131147,
          0.9950819672131147,
          0.9967213114754099,
          0.9967213114754099,
          0.9967213114754099,
          0.9967213114754099,
          1,
          1,
          1,
          1
         ],
         "yaxis": "y2"
        },
        {
         "line": {
          "color": "rgb(205, 12, 24)",
          "dash": "dot",
          "width": 2
         },
         "type": "scatter",
         "x": [
          0,
          1
         ],
         "xaxis": "x3",
         "y": [
          0,
          1
         ],
         "yaxis": "y3"
        }
       ],
       "layout": {
        "annotations": [
         {
          "font": {
           "size": 16
          },
          "showarrow": false,
          "text": "Confusion Matrix",
          "x": 0.225,
          "xanchor": "center",
          "xref": "paper",
          "y": 1,
          "yanchor": "bottom",
          "yref": "paper"
         },
         {
          "font": {
           "size": 16
          },
          "showarrow": false,
          "text": "Receiver operating characteristic",
          "x": 0.775,
          "xanchor": "center",
          "xref": "paper",
          "y": 1,
          "yanchor": "bottom",
          "yref": "paper"
         }
        ],
        "autosize": false,
        "height": 900,
        "margin": {
         "b": 195
        },
        "paper_bgcolor": "rgba(240,240,240, 0.95)",
        "plot_bgcolor": "rgba(240,240,240, 0.95)",
        "showlegend": false,
        "template": {
         "data": {
          "bar": [
           {
            "error_x": {
             "color": "#2a3f5f"
            },
            "error_y": {
             "color": "#2a3f5f"
            },
            "marker": {
             "line": {
              "color": "#E5ECF6",
              "width": 0.5
             }
            },
            "type": "bar"
           }
          ],
          "barpolar": [
           {
            "marker": {
             "line": {
              "color": "#E5ECF6",
              "width": 0.5
             }
            },
            "type": "barpolar"
           }
          ],
          "carpet": [
           {
            "aaxis": {
             "endlinecolor": "#2a3f5f",
             "gridcolor": "white",
             "linecolor": "white",
             "minorgridcolor": "white",
             "startlinecolor": "#2a3f5f"
            },
            "baxis": {
             "endlinecolor": "#2a3f5f",
             "gridcolor": "white",
             "linecolor": "white",
             "minorgridcolor": "white",
             "startlinecolor": "#2a3f5f"
            },
            "type": "carpet"
           }
          ],
          "choropleth": [
           {
            "colorbar": {
             "outlinewidth": 0,
             "ticks": ""
            },
            "type": "choropleth"
           }
          ],
          "contour": [
           {
            "colorbar": {
             "outlinewidth": 0,
             "ticks": ""
            },
            "colorscale": [
             [
              0,
              "#0d0887"
             ],
             [
              0.1111111111111111,
              "#46039f"
             ],
             [
              0.2222222222222222,
              "#7201a8"
             ],
             [
              0.3333333333333333,
              "#9c179e"
             ],
             [
              0.4444444444444444,
              "#bd3786"
             ],
             [
              0.5555555555555556,
              "#d8576b"
             ],
             [
              0.6666666666666666,
              "#ed7953"
             ],
             [
              0.7777777777777778,
              "#fb9f3a"
             ],
             [
              0.8888888888888888,
              "#fdca26"
             ],
             [
              1,
              "#f0f921"
             ]
            ],
            "type": "contour"
           }
          ],
          "contourcarpet": [
           {
            "colorbar": {
             "outlinewidth": 0,
             "ticks": ""
            },
            "type": "contourcarpet"
           }
          ],
          "heatmap": [
           {
            "colorbar": {
             "outlinewidth": 0,
             "ticks": ""
            },
            "colorscale": [
             [
              0,
              "#0d0887"
             ],
             [
              0.1111111111111111,
              "#46039f"
             ],
             [
              0.2222222222222222,
              "#7201a8"
             ],
             [
              0.3333333333333333,
              "#9c179e"
             ],
             [
              0.4444444444444444,
              "#bd3786"
             ],
             [
              0.5555555555555556,
              "#d8576b"
             ],
             [
              0.6666666666666666,
              "#ed7953"
             ],
             [
              0.7777777777777778,
              "#fb9f3a"
             ],
             [
              0.8888888888888888,
              "#fdca26"
             ],
             [
              1,
              "#f0f921"
             ]
            ],
            "type": "heatmap"
           }
          ],
          "heatmapgl": [
           {
            "colorbar": {
             "outlinewidth": 0,
             "ticks": ""
            },
            "colorscale": [
             [
              0,
              "#0d0887"
             ],
             [
              0.1111111111111111,
              "#46039f"
             ],
             [
              0.2222222222222222,
              "#7201a8"
             ],
             [
              0.3333333333333333,
              "#9c179e"
             ],
             [
              0.4444444444444444,
              "#bd3786"
             ],
             [
              0.5555555555555556,
              "#d8576b"
             ],
             [
              0.6666666666666666,
              "#ed7953"
             ],
             [
              0.7777777777777778,
              "#fb9f3a"
             ],
             [
              0.8888888888888888,
              "#fdca26"
             ],
             [
              1,
              "#f0f921"
             ]
            ],
            "type": "heatmapgl"
           }
          ],
          "histogram": [
           {
            "marker": {
             "colorbar": {
              "outlinewidth": 0,
              "ticks": ""
             }
            },
            "type": "histogram"
           }
          ],
          "histogram2d": [
           {
            "colorbar": {
             "outlinewidth": 0,
             "ticks": ""
            },
            "colorscale": [
             [
              0,
              "#0d0887"
             ],
             [
              0.1111111111111111,
              "#46039f"
             ],
             [
              0.2222222222222222,
              "#7201a8"
             ],
             [
              0.3333333333333333,
              "#9c179e"
             ],
             [
              0.4444444444444444,
              "#bd3786"
             ],
             [
              0.5555555555555556,
              "#d8576b"
             ],
             [
              0.6666666666666666,
              "#ed7953"
             ],
             [
              0.7777777777777778,
              "#fb9f3a"
             ],
             [
              0.8888888888888888,
              "#fdca26"
             ],
             [
              1,
              "#f0f921"
             ]
            ],
            "type": "histogram2d"
           }
          ],
          "histogram2dcontour": [
           {
            "colorbar": {
             "outlinewidth": 0,
             "ticks": ""
            },
            "colorscale": [
             [
              0,
              "#0d0887"
             ],
             [
              0.1111111111111111,
              "#46039f"
             ],
             [
              0.2222222222222222,
              "#7201a8"
             ],
             [
              0.3333333333333333,
              "#9c179e"
             ],
             [
              0.4444444444444444,
              "#bd3786"
             ],
             [
              0.5555555555555556,
              "#d8576b"
             ],
             [
              0.6666666666666666,
              "#ed7953"
             ],
             [
              0.7777777777777778,
              "#fb9f3a"
             ],
             [
              0.8888888888888888,
              "#fdca26"
             ],
             [
              1,
              "#f0f921"
             ]
            ],
            "type": "histogram2dcontour"
           }
          ],
          "mesh3d": [
           {
            "colorbar": {
             "outlinewidth": 0,
             "ticks": ""
            },
            "type": "mesh3d"
           }
          ],
          "parcoords": [
           {
            "line": {
             "colorbar": {
              "outlinewidth": 0,
              "ticks": ""
             }
            },
            "type": "parcoords"
           }
          ],
          "pie": [
           {
            "automargin": true,
            "type": "pie"
           }
          ],
          "scatter": [
           {
            "marker": {
             "colorbar": {
              "outlinewidth": 0,
              "ticks": ""
             }
            },
            "type": "scatter"
           }
          ],
          "scatter3d": [
           {
            "line": {
             "colorbar": {
              "outlinewidth": 0,
              "ticks": ""
             }
            },
            "marker": {
             "colorbar": {
              "outlinewidth": 0,
              "ticks": ""
             }
            },
            "type": "scatter3d"
           }
          ],
          "scattercarpet": [
           {
            "marker": {
             "colorbar": {
              "outlinewidth": 0,
              "ticks": ""
             }
            },
            "type": "scattercarpet"
           }
          ],
          "scattergeo": [
           {
            "marker": {
             "colorbar": {
              "outlinewidth": 0,
              "ticks": ""
             }
            },
            "type": "scattergeo"
           }
          ],
          "scattergl": [
           {
            "marker": {
             "colorbar": {
              "outlinewidth": 0,
              "ticks": ""
             }
            },
            "type": "scattergl"
           }
          ],
          "scattermapbox": [
           {
            "marker": {
             "colorbar": {
              "outlinewidth": 0,
              "ticks": ""
             }
            },
            "type": "scattermapbox"
           }
          ],
          "scatterpolar": [
           {
            "marker": {
             "colorbar": {
              "outlinewidth": 0,
              "ticks": ""
             }
            },
            "type": "scatterpolar"
           }
          ],
          "scatterpolargl": [
           {
            "marker": {
             "colorbar": {
              "outlinewidth": 0,
              "ticks": ""
             }
            },
            "type": "scatterpolargl"
           }
          ],
          "scatterternary": [
           {
            "marker": {
             "colorbar": {
              "outlinewidth": 0,
              "ticks": ""
             }
            },
            "type": "scatterternary"
           }
          ],
          "surface": [
           {
            "colorbar": {
             "outlinewidth": 0,
             "ticks": ""
            },
            "colorscale": [
             [
              0,
              "#0d0887"
             ],
             [
              0.1111111111111111,
              "#46039f"
             ],
             [
              0.2222222222222222,
              "#7201a8"
             ],
             [
              0.3333333333333333,
              "#9c179e"
             ],
             [
              0.4444444444444444,
              "#bd3786"
             ],
             [
              0.5555555555555556,
              "#d8576b"
             ],
             [
              0.6666666666666666,
              "#ed7953"
             ],
             [
              0.7777777777777778,
              "#fb9f3a"
             ],
             [
              0.8888888888888888,
              "#fdca26"
             ],
             [
              1,
              "#f0f921"
             ]
            ],
            "type": "surface"
           }
          ],
          "table": [
           {
            "cells": {
             "fill": {
              "color": "#EBF0F8"
             },
             "line": {
              "color": "white"
             }
            },
            "header": {
             "fill": {
              "color": "#C8D4E3"
             },
             "line": {
              "color": "white"
             }
            },
            "type": "table"
           }
          ]
         },
         "layout": {
          "annotationdefaults": {
           "arrowcolor": "#2a3f5f",
           "arrowhead": 0,
           "arrowwidth": 1
          },
          "coloraxis": {
           "colorbar": {
            "outlinewidth": 0,
            "ticks": ""
           }
          },
          "colorscale": {
           "diverging": [
            [
             0,
             "#8e0152"
            ],
            [
             0.1,
             "#c51b7d"
            ],
            [
             0.2,
             "#de77ae"
            ],
            [
             0.3,
             "#f1b6da"
            ],
            [
             0.4,
             "#fde0ef"
            ],
            [
             0.5,
             "#f7f7f7"
            ],
            [
             0.6,
             "#e6f5d0"
            ],
            [
             0.7,
             "#b8e186"
            ],
            [
             0.8,
             "#7fbc41"
            ],
            [
             0.9,
             "#4d9221"
            ],
            [
             1,
             "#276419"
            ]
           ],
           "sequential": [
            [
             0,
             "#0d0887"
            ],
            [
             0.1111111111111111,
             "#46039f"
            ],
            [
             0.2222222222222222,
             "#7201a8"
            ],
            [
             0.3333333333333333,
             "#9c179e"
            ],
            [
             0.4444444444444444,
             "#bd3786"
            ],
            [
             0.5555555555555556,
             "#d8576b"
            ],
            [
             0.6666666666666666,
             "#ed7953"
            ],
            [
             0.7777777777777778,
             "#fb9f3a"
            ],
            [
             0.8888888888888888,
             "#fdca26"
            ],
            [
             1,
             "#f0f921"
            ]
           ],
           "sequentialminus": [
            [
             0,
             "#0d0887"
            ],
            [
             0.1111111111111111,
             "#46039f"
            ],
            [
             0.2222222222222222,
             "#7201a8"
            ],
            [
             0.3333333333333333,
             "#9c179e"
            ],
            [
             0.4444444444444444,
             "#bd3786"
            ],
            [
             0.5555555555555556,
             "#d8576b"
            ],
            [
             0.6666666666666666,
             "#ed7953"
            ],
            [
             0.7777777777777778,
             "#fb9f3a"
            ],
            [
             0.8888888888888888,
             "#fdca26"
            ],
            [
             1,
             "#f0f921"
            ]
           ]
          },
          "colorway": [
           "#636efa",
           "#EF553B",
           "#00cc96",
           "#ab63fa",
           "#FFA15A",
           "#19d3f3",
           "#FF6692",
           "#B6E880",
           "#FF97FF",
           "#FECB52"
          ],
          "font": {
           "color": "#2a3f5f"
          },
          "geo": {
           "bgcolor": "white",
           "lakecolor": "white",
           "landcolor": "#E5ECF6",
           "showlakes": true,
           "showland": true,
           "subunitcolor": "white"
          },
          "hoverlabel": {
           "align": "left"
          },
          "hovermode": "closest",
          "mapbox": {
           "style": "light"
          },
          "paper_bgcolor": "white",
          "plot_bgcolor": "#E5ECF6",
          "polar": {
           "angularaxis": {
            "gridcolor": "white",
            "linecolor": "white",
            "ticks": ""
           },
           "bgcolor": "#E5ECF6",
           "radialaxis": {
            "gridcolor": "white",
            "linecolor": "white",
            "ticks": ""
           }
          },
          "scene": {
           "xaxis": {
            "backgroundcolor": "#E5ECF6",
            "gridcolor": "white",
            "gridwidth": 2,
            "linecolor": "white",
            "showbackground": true,
            "ticks": "",
            "zerolinecolor": "white"
           },
           "yaxis": {
            "backgroundcolor": "#E5ECF6",
            "gridcolor": "white",
            "gridwidth": 2,
            "linecolor": "white",
            "showbackground": true,
            "ticks": "",
            "zerolinecolor": "white"
           },
           "zaxis": {
            "backgroundcolor": "#E5ECF6",
            "gridcolor": "white",
            "gridwidth": 2,
            "linecolor": "white",
            "showbackground": true,
            "ticks": "",
            "zerolinecolor": "white"
           }
          },
          "shapedefaults": {
           "line": {
            "color": "#2a3f5f"
           }
          },
          "ternary": {
           "aaxis": {
            "gridcolor": "white",
            "linecolor": "white",
            "ticks": ""
           },
           "baxis": {
            "gridcolor": "white",
            "linecolor": "white",
            "ticks": ""
           },
           "bgcolor": "#E5ECF6",
           "caxis": {
            "gridcolor": "white",
            "linecolor": "white",
            "ticks": ""
           }
          },
          "title": {
           "x": 0.05
          },
          "xaxis": {
           "automargin": true,
           "gridcolor": "white",
           "linecolor": "white",
           "ticks": "",
           "title": {
            "standoff": 15
           },
           "zerolinecolor": "white",
           "zerolinewidth": 2
          },
          "yaxis": {
           "automargin": true,
           "gridcolor": "white",
           "linecolor": "white",
           "ticks": "",
           "title": {
            "standoff": 15
           },
           "zerolinecolor": "white",
           "zerolinewidth": 2
          }
         }
        },
        "title": {
         "text": "Model performance"
        },
        "width": 800,
        "xaxis": {
         "anchor": "y",
         "domain": [
          0,
          0.45
         ]
        },
        "xaxis2": {
         "anchor": "y2",
         "domain": [
          0.55,
          1
         ],
         "title": {
          "text": "false positive rate"
         }
        },
        "xaxis3": {
         "anchor": "y3",
         "domain": [
          0,
          1
         ],
         "showgrid": true,
         "tickangle": 90,
         "tickfont": {
          "size": 10
         }
        },
        "yaxis": {
         "anchor": "x",
         "domain": [
          0.625,
          1
         ]
        },
        "yaxis2": {
         "anchor": "x2",
         "domain": [
          0.625,
          1
         ],
         "title": {
          "text": "true positive rate"
         }
        },
        "yaxis3": {
         "anchor": "x3",
         "domain": [
          0,
          0.375
         ]
        }
       }
      },
      "text/html": [
       "<div>\n",
       "        \n",
       "        \n",
       "            <div id=\"8fbf2840-37e6-44a4-b60d-51d046aff310\" class=\"plotly-graph-div\" style=\"height:900px; width:800px;\"></div>\n",
       "            <script type=\"text/javascript\">\n",
       "                require([\"plotly\"], function(Plotly) {\n",
       "                    window.PLOTLYENV=window.PLOTLYENV || {};\n",
       "                    \n",
       "                if (document.getElementById(\"8fbf2840-37e6-44a4-b60d-51d046aff310\")) {\n",
       "                    Plotly.newPlot(\n",
       "                        '8fbf2840-37e6-44a4-b60d-51d046aff310',\n",
       "                        [{\"colorscale\": [[0.0, \"rgb(0,0,255)\"], [0.1, \"rgb(51,153,255)\"], [0.2, \"rgb(102,204,255)\"], [0.3, \"rgb(153,204,255)\"], [0.4, \"rgb(204,204,255)\"], [0.5, \"rgb(255,255,255)\"], [0.6, \"rgb(255,204,255)\"], [0.7, \"rgb(255,153,255)\"], [0.8, \"rgb(255,102,204)\"], [0.9, \"rgb(255,102,102)\"], [1.0, \"rgb(255,0,0)\"]], \"name\": \"matrix\", \"showscale\": false, \"type\": \"heatmap\", \"x\": [\"Not churn\", \"Churn\"], \"xaxis\": \"x\", \"y\": [\"Not churn\", \"Churn\"], \"yaxis\": \"y\", \"z\": [[1492, 219], [288, 322]]}, {\"line\": {\"color\": \"rgb(22, 96, 167)\", \"width\": 2}, \"name\": \"Roc : 0.699936764043652\", \"type\": \"scatter\", \"x\": [0.0, 0.0, 0.0, 0.0005844535359438924, 0.0005844535359438924, 0.0017533606078316774, 0.0017533606078316774, 0.0023378141437755697, 0.0023378141437755697, 0.0023378141437755697, 0.0023378141437755697, 0.0029222676797194622, 0.0029222676797194622, 0.0035067212156633548, 0.0035067212156633548, 0.004675628287551139, 0.004675628287551139, 0.005260081823495032, 0.005260081823495032, 0.0058445353594389245, 0.0058445353594389245, 0.006428988895382817, 0.006428988895382817, 0.0070134424313267095, 0.0070134424313267095, 0.0070134424313267095, 0.0070134424313267095, 0.007597895967270602, 0.007597895967270602, 0.008182349503214495, 0.008182349503214495, 0.008766803039158387, 0.008766803039158387, 0.009351256575102279, 0.009351256575102279, 0.009935710111046173, 0.009935710111046173, 0.011104617182933957, 0.011104617182933957, 0.012273524254821741, 0.012273524254821741, 0.012857977790765635, 0.012857977790765635, 0.013442431326709527, 0.013442431326709527, 0.014026884862653419, 0.014026884862653419, 0.014611338398597311, 0.014611338398597311, 0.01636469900642899, 0.01636469900642899, 0.018702513150204558, 0.018702513150204558, 0.01928696668614845, 0.01928696668614845, 0.019871420222092345, 0.019871420222092345, 0.020455873758036237, 0.020455873758036237, 0.02104032729398013, 0.02104032729398013, 0.022209234365867914, 0.022209234365867914, 0.022793687901811806, 0.022793687901811806, 0.023378141437755698, 0.023378141437755698, 0.02396259497369959, 0.02396259497369959, 0.024547048509643482, 0.024547048509643482, 0.026884862653419054, 0.026884862653419054, 0.028053769725306838, 0.028053769725306838, 0.02863822326125073, 0.02863822326125073, 0.029807130333138514, 0.029807130333138514, 0.030391583869082407, 0.030391583869082407, 0.031560490940970194, 0.031560490940970194, 0.032144944476914086, 0.032144944476914086, 0.03331385154880187, 0.03331385154880187, 0.03389830508474576, 0.03389830508474576, 0.034482758620689655, 0.034482758620689655, 0.03506721215663355, 0.03506721215663355, 0.03623611922852133, 0.03623611922852133, 0.037405026300409115, 0.03798947983635301, 0.03798947983635301, 0.0385739333722969, 0.0385739333722969, 0.03915838690824079, 0.03915838690824079, 0.03974284044418469, 0.03974284044418469, 0.04208065458796026, 0.04208065458796026, 0.043834015195791935, 0.043834015195791935, 0.04441846873173583, 0.04441846873173583, 0.04500292226767972, 0.04500292226767972, 0.04558737580362361, 0.04558737580362361, 0.046171829339567504, 0.046171829339567504, 0.046756282875511396, 0.046756282875511396, 0.04734073641145529, 0.04734073641145529, 0.049094097019286964, 0.049094097019286964, 0.05143191116306254, 0.05143191116306254, 0.05493863237872589, 0.05493863237872589, 0.05493863237872589, 0.056107539450613676, 0.056107539450613676, 0.05727644652250146, 0.05727644652250146, 0.05902980713033314, 0.05902980713033314, 0.06019871420222092, 0.06019871420222092, 0.06078316773816481, 0.061367621274108705, 0.06253652834599649, 0.06253652834599649, 0.06312098188194039, 0.06312098188194039, 0.06370543541788427, 0.06370543541788427, 0.06487434248977206, 0.06487434248977206, 0.06604324956165984, 0.06604324956165984, 0.06721215663354763, 0.06721215663354763, 0.06838106370543542, 0.06838106370543542, 0.06954997077732321, 0.06954997077732321, 0.07071887784921099, 0.07071887784921099, 0.07305669199298656, 0.07305669199298656, 0.07364114552893045, 0.07364114552893045, 0.07539450613676213, 0.07539450613676213, 0.0771478667445938, 0.0771478667445938, 0.08065458796025717, 0.08065458796025717, 0.08123904149620105, 0.08123904149620105, 0.08182349503214495, 0.08182349503214495, 0.08299240210403273, 0.08299240210403273, 0.0853302162478083, 0.0853302162478083, 0.08591466978375219, 0.08591466978375219, 0.08649912331969609, 0.08649912331969609, 0.08708357685563997, 0.08708357685563997, 0.08883693746347165, 0.08883693746347165, 0.09000584453535944, 0.09000584453535944, 0.09117475160724722, 0.09117475160724722, 0.09351256575102279, 0.09351256575102279, 0.09409701928696669, 0.09409701928696669, 0.09526592635885447, 0.09526592635885447, 0.09585037989479836, 0.09585037989479836, 0.09701928696668614, 0.09701928696668614, 0.09760374050263004, 0.09760374050263004, 0.09818819403857393, 0.09818819403857393, 0.09935710111046171, 0.09935710111046171, 0.09994155464640561, 0.09994155464640561, 0.1005260081823495, 0.1005260081823495, 0.1011104617182934, 0.1011104617182934, 0.1016949152542373, 0.1016949152542373, 0.10227936879018118, 0.10227936879018118, 0.10286382232612508, 0.10286382232612508, 0.10344827586206896, 0.10344827586206896, 0.10520163646990065, 0.10520163646990065, 0.10753945061367622, 0.10753945061367622, 0.11163062536528345, 0.11163062536528345, 0.11221507890122735, 0.11221507890122735, 0.1157218001168907, 0.1157218001168907, 0.11689070718877849, 0.11689070718877849, 0.11805961426066627, 0.11805961426066627, 0.11981297486849796, 0.11981297486849796, 0.12215078901227353, 0.12215078901227353, 0.12273524254821741, 0.12273524254821741, 0.12331969608416131, 0.12331969608416131, 0.12390414962010521, 0.12390414962010521, 0.12624196376388078, 0.12624196376388078, 0.12799532437171246, 0.12799532437171246, 0.12857977790765635, 0.12857977790765635, 0.13442431326709525, 0.13442431326709525, 0.13676212741087085, 0.13676212741087085, 0.13734658094681473, 0.13734658094681473, 0.13793103448275862, 0.13793103448275862, 0.13909994155464642, 0.13909994155464642, 0.14202220923436587, 0.14202220923436587, 0.14436002337814144, 0.14436002337814144, 0.14611338398597312, 0.14611338398597312, 0.146697837521917, 0.146697837521917, 0.1478667445938048, 0.1478667445938048, 0.1484511981297487, 0.1484511981297487, 0.14903565166569258, 0.14903565166569258, 0.14962010520163646, 0.14962010520163646, 0.15254237288135594, 0.15254237288135594, 0.15312682641729983, 0.15312682641729983, 0.1537112799532437, 0.1537112799532437, 0.1548801870251315, 0.1548801870251315, 0.1554646405610754, 0.1554646405610754, 0.15780245470485096, 0.15780245470485096, 0.15838690824079485, 0.15838690824079485, 0.15897136177673876, 0.15897136177673876, 0.15955581531268265, 0.15955581531268265, 0.16072472238457042, 0.16072472238457042, 0.16423144360023378, 0.16423144360023378, 0.16540035067212155, 0.16540035067212155, 0.16715371127995324, 0.16715371127995324, 0.16773816481589712, 0.16773816481589712, 0.16832261835184104, 0.16890707188778492, 0.16890707188778492, 0.1694915254237288, 0.1694915254237288, 0.1712448860315605, 0.1712448860315605, 0.17182933956750437, 0.17182933956750437, 0.17475160724722386, 0.17475160724722386, 0.1782583284628872, 0.1782583284628872, 0.17884278199883108, 0.17884278199883108, 0.179427235534775, 0.179427235534775, 0.18059614260666276, 0.18059614260666276, 0.18118059614260668, 0.18118059614260668, 0.18351841028638224, 0.18351841028638224, 0.18410286382232613, 0.18410286382232613, 0.18468731735827001, 0.18468731735827001, 0.1864406779661017, 0.1864406779661017, 0.1934541203974284, 0.1934541203974284, 0.1946230274693162, 0.1946230274693162, 0.19579193454120397, 0.19579193454120397, 0.19812974868497954, 0.19929865575686734, 0.201052016364699, 0.201052016364699, 0.2022209234365868, 0.2022209234365868, 0.20397428404441847, 0.20397428404441847, 0.20572764465225016, 0.20572764465225016, 0.20689655172413793, 0.20689655172413793, 0.2074810052600818, 0.2074810052600818, 0.2092343658679135, 0.2092343658679135, 0.21098772647574518, 0.21098772647574518, 0.21274108708357686, 0.21274108708357686, 0.21683226183518411, 0.21683226183518411, 0.21917007597895968, 0.21917007597895968, 0.22150789012273525, 0.22150789012273525, 0.2250146113383986, 0.2250146113383986, 0.22676797194623027, 0.22676797194623027, 0.22735242548217416, 0.22735242548217416, 0.22852133255406196, 0.22852133255406196, 0.22910578609000584, 0.22910578609000584, 0.2314436002337814, 0.2314436002337814, 0.2331969608416131, 0.2331969608416131, 0.23553477498538866, 0.23553477498538866, 0.23845704266510812, 0.23845704266510812, 0.2402104032729398, 0.2402104032729398, 0.24547048509643482, 0.24663939216832262, 0.25073056691992984, 0.25073056691992984, 0.25189947399181767, 0.25189947399181767, 0.25248392752776155, 0.25248392752776155, 0.2536528345996493, 0.2536528345996493, 0.2577440093512566, 0.2577440093512566, 0.26008182349503217, 0.26008182349503217, 0.26066627703097606, 0.26066627703097606, 0.2630040911747516, 0.2630040911747516, 0.26417299824663937, 0.26417299824663937, 0.2653419053185272, 0.2653419053185272, 0.2682641729982466, 0.2682641729982466, 0.2711864406779661, 0.2711864406779661, 0.27177089421391, 0.27177089421391, 0.27235534774985387, 0.27235534774985387, 0.27527761542957335, 0.27527761542957335, 0.27586206896551724, 0.27586206896551724, 0.2764465225014611, 0.2764465225014611, 0.28170660432495614, 0.28170660432495614, 0.28287551139684397, 0.28287551139684397, 0.28404441846873174, 0.28404441846873174, 0.2852133255406195, 0.2852133255406195, 0.2887200467562829, 0.2887200467562829, 0.2910578609000584, 0.2910578609000584, 0.29222676797194624, 0.29222676797194624, 0.293395675043834, 0.293395675043834, 0.2957334891876096, 0.2957334891876096, 0.29865575686732904, 0.29865575686732904, 0.30099357101110463, 0.30099357101110463, 0.3015780245470485, 0.3015780245470485, 0.3033313851548802, 0.3033313851548802, 0.30625365283459965, 0.30625365283459965, 0.3080070134424313, 0.3080070134424313, 0.3085914669783752, 0.3085914669783752, 0.3115137346580947, 0.3115137346580947, 0.31326709526592633, 0.31326709526592633, 0.3138515488018703, 0.31443600233781416, 0.31443600233781416, 0.3167738164815897, 0.3167738164815897, 0.3196960841613092, 0.3196960841613092, 0.32028053769725306, 0.32144944476914084, 0.32144944476914084, 0.3243717124488603, 0.3243717124488603, 0.3255406195207481, 0.3255406195207481, 0.3267095265926359, 0.3267095265926359, 0.3278784336645237, 0.3278784336645237, 0.32904734073641145, 0.32904734073641145, 0.3302162478082992, 0.3302162478082992, 0.33196960841613093, 0.33196960841613093, 0.3325540619520748, 0.3325540619520748, 0.33547632963179425, 0.33547632963179425, 0.33781414377556984, 0.33781414377556984, 0.3383985973115137, 0.3383985973115137, 0.34015195791934544, 0.34015195791934544, 0.34424313267095263, 0.34424313267095263, 0.35359438924605496, 0.35359438924605496, 0.3582700175336061, 0.3582700175336061, 0.36060783167738164, 0.36060783167738164, 0.3617767387492694, 0.3617767387492694, 0.36586791350087666, 0.36586791350087666, 0.36820572764465226, 0.36820572764465226, 0.36879018118059614, 0.36879018118059614, 0.3705435417884278, 0.3705435417884278, 0.37755698421975453, 0.37755698421975453, 0.3781414377556984, 0.3781414377556984, 0.3793103448275862, 0.3793103448275862, 0.38223261250730567, 0.38223261250730567, 0.3869082407948568, 0.3869082407948568, 0.3874926943308007, 0.3874926943308007, 0.3892460549386324, 0.3892460549386324, 0.3898305084745763, 0.3898305084745763, 0.3904149620105202, 0.3904149620105202, 0.39158386908240794, 0.39158386908240794, 0.3956750438340152, 0.3956750438340152, 0.4015195791934541, 0.4015195791934541, 0.40736411455289306, 0.40736411455289306, 0.40853302162478083, 0.40853302162478083, 0.4126241963763881, 0.4126241963763881, 0.41379310344827586, 0.41379310344827586, 0.4202220923436587, 0.4202220923436587, 0.42255990648743424, 0.42255990648743424, 0.42489772063120984, 0.42489772063120984, 0.4266510812390415, 0.4266510812390415, 0.43074225599064875, 0.43074225599064875, 0.43717124488603154, 0.43717124488603154, 0.4412624196376388, 0.4412624196376388, 0.4418468731735827, 0.4418468731735827, 0.4441846873173583, 0.4441846873173583, 0.4494447691408533, 0.4494447691408533, 0.4552893045002922, 0.4552893045002922, 0.45879602571595557, 0.45879602571595557, 0.4605493863237873, 0.4605493863237873, 0.46230274693161894, 0.46230274693161894, 0.4652250146113384, 0.4652250146113384, 0.46814728229105784, 0.46814728229105784, 0.46990064289888955, 0.46990064289888955, 0.4722384570426651, 0.4722384570426651, 0.472822910578609, 0.472822910578609, 0.4774985388661601, 0.4774985388661601, 0.48743424897720633, 0.48743424897720633, 0.49094097019286964, 0.49094097019286964, 0.49210987726475747, 0.49210987726475747, 0.49327878433664524, 0.49327878433664524, 0.49561659848042083, 0.49561659848042083, 0.49970777323202803, 0.49970777323202803, 0.5026300409117476, 0.5026300409117476, 0.5073056691992986, 0.5073056691992986, 0.5078901227352426, 0.5078901227352426, 0.5113968439509059, 0.5113968439509059, 0.5143191116306254, 0.5143191116306254, 0.5172413793103449, 0.5172413793103449, 0.5184102863822326, 0.5184102863822326, 0.5207481005260082, 0.5207481005260082, 0.5236703682057277, 0.5236703682057277, 0.5283459964932787, 0.5283459964932787, 0.5394506136762127, 0.5394506136762127, 0.5400350672121567, 0.5400350672121567, 0.5429573348918761, 0.5429573348918761, 0.5476329631794272, 0.5476329631794272, 0.5523085914669784, 0.5523085914669784, 0.5569842197545295, 0.5569842197545295, 0.5610753945061367, 0.5610753945061367, 0.5622443015780245, 0.5622443015780245, 0.5657510227936879, 0.5657510227936879, 0.5745178258328463, 0.5745178258328463, 0.5768556399766218, 0.5768556399766218, 0.5821157218001168, 0.5821157218001168, 0.5990648743424898, 0.5990648743424898, 0.5996493278784336, 0.5996493278784336, 0.6002337814143776, 0.6002337814143776, 0.6049094097019287, 0.6060783167738165, 0.6113383985973115, 0.6113383985973115, 0.6154295733489188, 0.6154295733489188, 0.6253652834599649, 0.6253652834599649, 0.635885447106955, 0.635885447106955, 0.6399766218585622, 0.6399766218585622, 0.6446522501461134, 0.6446522501461134, 0.679135008766803, 0.679135008766803, 0.6797194623027469, 0.6797194623027469, 0.6890707188778492, 0.6890707188778492, 0.6972530683810637, 0.6972530683810637, 0.72822910578609, 0.72822910578609, 0.7293980128579778, 0.7293980128579778, 0.7451782583284629, 0.7451782583284629, 0.7784921098772648, 0.7784921098772648, 0.7802454704850964, 0.7802454704850964, 0.7948568088836937, 0.7948568088836937, 0.7966101694915254, 0.7966101694915254, 0.820572764465225, 0.820572764465225, 0.8568088836937463, 0.8568088836937463, 0.8702513150204558, 0.8702513150204558, 0.9018118059614261, 0.9018118059614261, 0.9684395090590298, 0.9696084161309176, 0.972530683810637, 0.972530683810637, 0.9883109292811222, 0.98947983635301, 1.0], \"xaxis\": \"x2\", \"y\": [0.0, 0.001639344262295082, 0.021311475409836064, 0.021311475409836064, 0.02622950819672131, 0.02622950819672131, 0.027868852459016394, 0.027868852459016394, 0.029508196721311476, 0.036065573770491806, 0.04426229508196721, 0.05245901639344262, 0.054098360655737705, 0.054098360655737705, 0.05573770491803279, 0.05573770491803279, 0.06229508196721312, 0.06229508196721312, 0.07049180327868852, 0.07049180327868852, 0.07213114754098361, 0.07213114754098361, 0.07540983606557378, 0.07540983606557378, 0.08360655737704918, 0.08688524590163935, 0.09508196721311475, 0.09508196721311475, 0.10327868852459017, 0.10327868852459017, 0.10655737704918032, 0.10655737704918032, 0.10819672131147541, 0.10819672131147541, 0.12950819672131147, 0.13114754098360656, 0.1360655737704918, 0.1360655737704918, 0.14262295081967213, 0.14262295081967213, 0.14426229508196722, 0.14426229508196722, 0.14590163934426228, 0.14590163934426228, 0.14918032786885246, 0.14918032786885246, 0.15081967213114755, 0.15081967213114755, 0.16721311475409836, 0.16721311475409836, 0.16885245901639345, 0.16885245901639345, 0.17049180327868851, 0.17049180327868851, 0.17540983606557378, 0.17540983606557378, 0.17704918032786884, 0.17704918032786884, 0.18032786885245902, 0.18032786885245902, 0.18360655737704917, 0.18360655737704917, 0.1901639344262295, 0.1901639344262295, 0.1918032786885246, 0.1918032786885246, 0.19672131147540983, 0.19672131147540983, 0.19836065573770492, 0.19836065573770492, 0.2180327868852459, 0.2180327868852459, 0.22459016393442624, 0.22459016393442624, 0.23442622950819672, 0.23442622950819672, 0.2360655737704918, 0.2360655737704918, 0.24754098360655738, 0.24754098360655738, 0.25081967213114753, 0.25081967213114753, 0.25245901639344265, 0.25245901639344265, 0.2540983606557377, 0.2540983606557377, 0.25573770491803277, 0.25573770491803277, 0.25901639344262295, 0.25901639344262295, 0.260655737704918, 0.260655737704918, 0.2721311475409836, 0.2721311475409836, 0.2754098360655738, 0.2754098360655738, 0.2786885245901639, 0.2819672131147541, 0.2819672131147541, 0.2836065573770492, 0.2836065573770492, 0.28688524590163933, 0.28688524590163933, 0.29180327868852457, 0.29180327868852457, 0.2934426229508197, 0.2934426229508197, 0.2967213114754098, 0.2967213114754098, 0.2983606557377049, 0.2983606557377049, 0.3016393442622951, 0.3016393442622951, 0.30983606557377047, 0.30983606557377047, 0.3114754098360656, 0.3114754098360656, 0.31475409836065577, 0.31475409836065577, 0.3180327868852459, 0.3180327868852459, 0.3295081967213115, 0.3295081967213115, 0.33114754098360655, 0.33114754098360655, 0.34918032786885245, 0.3524590163934426, 0.3524590163934426, 0.3557377049180328, 0.3557377049180328, 0.3639344262295082, 0.3639344262295082, 0.3655737704918033, 0.3655737704918033, 0.36721311475409835, 0.36721311475409835, 0.36885245901639346, 0.36885245901639346, 0.3721311475409836, 0.3721311475409836, 0.3737704918032787, 0.3737704918032787, 0.380327868852459, 0.380327868852459, 0.38524590163934425, 0.38524590163934425, 0.3885245901639344, 0.3885245901639344, 0.39344262295081966, 0.39344262295081966, 0.3950819672131147, 0.3950819672131147, 0.3983606557377049, 0.3983606557377049, 0.4, 0.4, 0.40491803278688526, 0.4065573770491803, 0.4081967213114754, 0.4081967213114754, 0.4098360655737705, 0.4098360655737705, 0.4131147540983607, 0.4131147540983607, 0.41475409836065574, 0.41475409836065574, 0.42131147540983604, 0.42131147540983604, 0.4262295081967213, 0.4262295081967213, 0.4278688524590164, 0.4278688524590164, 0.42950819672131146, 0.42950819672131146, 0.4311475409836066, 0.4311475409836066, 0.4344262295081967, 0.4344262295081967, 0.4377049180327869, 0.4377049180327869, 0.43934426229508194, 0.43934426229508194, 0.44098360655737706, 0.44098360655737706, 0.4426229508196721, 0.4426229508196721, 0.44754098360655736, 0.44754098360655736, 0.45081967213114754, 0.45081967213114754, 0.4540983606557377, 0.4540983606557377, 0.45737704918032784, 0.45737704918032784, 0.45901639344262296, 0.45901639344262296, 0.46557377049180326, 0.46557377049180326, 0.46885245901639344, 0.46885245901639344, 0.4704918032786885, 0.4704918032786885, 0.4737704918032787, 0.4737704918032787, 0.47704918032786886, 0.47704918032786886, 0.4786885245901639, 0.4786885245901639, 0.48032786885245904, 0.48032786885245904, 0.4819672131147541, 0.4819672131147541, 0.48360655737704916, 0.48360655737704916, 0.48688524590163934, 0.48688524590163934, 0.4901639344262295, 0.4901639344262295, 0.4918032786885246, 0.4918032786885246, 0.49508196721311476, 0.49508196721311476, 0.49836065573770494, 0.49836065573770494, 0.5016393442622951, 0.5032786885245901, 0.5049180327868853, 0.5049180327868853, 0.5065573770491804, 0.5065573770491804, 0.5114754098360655, 0.5114754098360655, 0.5147540983606558, 0.5147540983606558, 0.519672131147541, 0.521311475409836, 0.5229508196721312, 0.5229508196721312, 0.5245901639344263, 0.5245901639344263, 0.5262295081967213, 0.5262295081967213, 0.5278688524590164, 0.5278688524590164, 0.5311475409836065, 0.5311475409836065, 0.5344262295081967, 0.5344262295081967, 0.5409836065573771, 0.5409836065573771, 0.5426229508196722, 0.5426229508196722, 0.5442622950819672, 0.5442622950819672, 0.5459016393442623, 0.5459016393442623, 0.5475409836065573, 0.5475409836065573, 0.5491803278688525, 0.5491803278688525, 0.5508196721311476, 0.5508196721311476, 0.5524590163934426, 0.5524590163934426, 0.5557377049180328, 0.5557377049180328, 0.5655737704918032, 0.5655737704918032, 0.5672131147540984, 0.5672131147540984, 0.5688524590163935, 0.5688524590163935, 0.5704918032786885, 0.5704918032786885, 0.5754098360655737, 0.5754098360655737, 0.580327868852459, 0.580327868852459, 0.5819672131147541, 0.5819672131147541, 0.5836065573770491, 0.5836065573770491, 0.5852459016393443, 0.5852459016393443, 0.5868852459016394, 0.5868852459016394, 0.5885245901639344, 0.5885245901639344, 0.5901639344262295, 0.5901639344262295, 0.5934426229508196, 0.5934426229508196, 0.5967213114754099, 0.5967213114754099, 0.5983606557377049, 0.5983606557377049, 0.6049180327868853, 0.6049180327868853, 0.6065573770491803, 0.6065573770491803, 0.6081967213114754, 0.6098360655737705, 0.6098360655737705, 0.6131147540983607, 0.6131147540983607, 0.6147540983606558, 0.6147540983606558, 0.6163934426229508, 0.6163934426229508, 0.6196721311475409, 0.6196721311475409, 0.6213114754098361, 0.6213114754098361, 0.6245901639344262, 0.6245901639344262, 0.6262295081967213, 0.6262295081967213, 0.6278688524590164, 0.6278688524590164, 0.6295081967213115, 0.6295081967213115, 0.6311475409836066, 0.6311475409836066, 0.6327868852459017, 0.6327868852459017, 0.6360655737704918, 0.6360655737704918, 0.6377049180327868, 0.6377049180327868, 0.6409836065573771, 0.6409836065573771, 0.6442622950819672, 0.6442622950819672, 0.6459016393442623, 0.6459016393442623, 0.6459016393442623, 0.6459016393442623, 0.6475409836065574, 0.6475409836065574, 0.6491803278688525, 0.6491803278688525, 0.6508196721311476, 0.6508196721311476, 0.6524590163934426, 0.6524590163934426, 0.6540983606557377, 0.6540983606557377, 0.6557377049180327, 0.6557377049180327, 0.6573770491803279, 0.6573770491803279, 0.659016393442623, 0.659016393442623, 0.6655737704918033, 0.6655737704918033, 0.6672131147540984, 0.6672131147540984, 0.6704918032786885, 0.6704918032786885, 0.6786885245901639, 0.6786885245901639, 0.6819672131147541, 0.6819672131147541, 0.6852459016393443, 0.6852459016393443, 0.6868852459016394, 0.6868852459016394, 0.6885245901639344, 0.6885245901639344, 0.6901639344262295, 0.6901639344262295, 0.6918032786885245, 0.6918032786885245, 0.6967213114754098, 0.6967213114754098, 0.6983606557377049, 0.6983606557377049, 0.7016393442622951, 0.7016393442622951, 0.7032786885245902, 0.7032786885245902, 0.7032786885245902, 0.7032786885245902, 0.7049180327868853, 0.7049180327868853, 0.7065573770491803, 0.7065573770491803, 0.7081967213114754, 0.7081967213114754, 0.7098360655737705, 0.7098360655737705, 0.7114754098360656, 0.7114754098360656, 0.7131147540983607, 0.7131147540983607, 0.7180327868852459, 0.7180327868852459, 0.719672131147541, 0.719672131147541, 0.7213114754098361, 0.7213114754098361, 0.7229508196721312, 0.7229508196721312, 0.7262295081967213, 0.7262295081967213, 0.7278688524590164, 0.7278688524590164, 0.7295081967213115, 0.7295081967213115, 0.7327868852459016, 0.7327868852459016, 0.7360655737704918, 0.7360655737704918, 0.7377049180327869, 0.7377049180327869, 0.739344262295082, 0.739344262295082, 0.740983606557377, 0.740983606557377, 0.7475409836065574, 0.7475409836065574, 0.7491803278688525, 0.7491803278688525, 0.7557377049180328, 0.7557377049180328, 0.759016393442623, 0.759016393442623, 0.760655737704918, 0.760655737704918, 0.7622950819672131, 0.7622950819672131, 0.7639344262295082, 0.7639344262295082, 0.7655737704918033, 0.7655737704918033, 0.7672131147540984, 0.7672131147540984, 0.7704918032786885, 0.7704918032786885, 0.7721311475409836, 0.7721311475409836, 0.7737704918032787, 0.7737704918032787, 0.7754098360655738, 0.7754098360655738, 0.7770491803278688, 0.7770491803278688, 0.7786885245901639, 0.7786885245901639, 0.7819672131147541, 0.7819672131147541, 0.7836065573770492, 0.7852459016393443, 0.7852459016393443, 0.7885245901639344, 0.7885245901639344, 0.7901639344262295, 0.7901639344262295, 0.7918032786885246, 0.7934426229508197, 0.7934426229508197, 0.7967213114754098, 0.7967213114754098, 0.7983606557377049, 0.7983606557377049, 0.8, 0.8, 0.8016393442622951, 0.8016393442622951, 0.8032786885245902, 0.8032786885245902, 0.8049180327868852, 0.8049180327868852, 0.8065573770491803, 0.8065573770491803, 0.8114754098360656, 0.8114754098360656, 0.8180327868852459, 0.8180327868852459, 0.819672131147541, 0.819672131147541, 0.8213114754098361, 0.8213114754098361, 0.8229508196721311, 0.8229508196721311, 0.8245901639344262, 0.8245901639344262, 0.8262295081967214, 0.8262295081967214, 0.8278688524590164, 0.8278688524590164, 0.8311475409836065, 0.8311475409836065, 0.8344262295081967, 0.8344262295081967, 0.8360655737704918, 0.8360655737704918, 0.8377049180327869, 0.8377049180327869, 0.839344262295082, 0.839344262295082, 0.840983606557377, 0.840983606557377, 0.8426229508196721, 0.8426229508196721, 0.8442622950819673, 0.8442622950819673, 0.8459016393442623, 0.8459016393442623, 0.8475409836065574, 0.8475409836065574, 0.8508196721311475, 0.8508196721311475, 0.8524590163934426, 0.8524590163934426, 0.8540983606557377, 0.8540983606557377, 0.8557377049180328, 0.8557377049180328, 0.8573770491803279, 0.8573770491803279, 0.8590163934426229, 0.8590163934426229, 0.860655737704918, 0.860655737704918, 0.8622950819672132, 0.8622950819672132, 0.8639344262295082, 0.8639344262295082, 0.8655737704918033, 0.8655737704918033, 0.8672131147540983, 0.8672131147540983, 0.8688524590163934, 0.8688524590163934, 0.8704918032786885, 0.8704918032786885, 0.8721311475409836, 0.8721311475409836, 0.8737704918032787, 0.8737704918032787, 0.8754098360655738, 0.8754098360655738, 0.8770491803278688, 0.8770491803278688, 0.8786885245901639, 0.8786885245901639, 0.8803278688524591, 0.8803278688524591, 0.8836065573770492, 0.8836065573770492, 0.8852459016393442, 0.8852459016393442, 0.8868852459016393, 0.8868852459016393, 0.8885245901639345, 0.8885245901639345, 0.8901639344262295, 0.8901639344262295, 0.8918032786885246, 0.8918032786885246, 0.8934426229508197, 0.8934426229508197, 0.8950819672131147, 0.8950819672131147, 0.8967213114754098, 0.8967213114754098, 0.898360655737705, 0.898360655737705, 0.9, 0.9, 0.9016393442622951, 0.9016393442622951, 0.9032786885245901, 0.9032786885245901, 0.9049180327868852, 0.9049180327868852, 0.9065573770491804, 0.9065573770491804, 0.9081967213114754, 0.9081967213114754, 0.9098360655737705, 0.9098360655737705, 0.9114754098360656, 0.9114754098360656, 0.9131147540983606, 0.9131147540983606, 0.9147540983606557, 0.9147540983606557, 0.9163934426229509, 0.9163934426229509, 0.9180327868852459, 0.9180327868852459, 0.919672131147541, 0.919672131147541, 0.921311475409836, 0.921311475409836, 0.9229508196721311, 0.9229508196721311, 0.9245901639344263, 0.9245901639344263, 0.9278688524590164, 0.9278688524590164, 0.9295081967213115, 0.9295081967213115, 0.9311475409836065, 0.9311475409836065, 0.9327868852459016, 0.9327868852459016, 0.9344262295081968, 0.9344262295081968, 0.9360655737704918, 0.9360655737704918, 0.9377049180327869, 0.9377049180327869, 0.9393442622950819, 0.9393442622950819, 0.940983606557377, 0.940983606557377, 0.9426229508196722, 0.9426229508196722, 0.9442622950819672, 0.9442622950819672, 0.9459016393442623, 0.9459016393442623, 0.9475409836065574, 0.9475409836065574, 0.9491803278688524, 0.9491803278688524, 0.9508196721311475, 0.9508196721311475, 0.9524590163934427, 0.9524590163934427, 0.9557377049180328, 0.9557377049180328, 0.9573770491803278, 0.9573770491803278, 0.9590163934426229, 0.9590163934426229, 0.9590163934426229, 0.9590163934426229, 0.9606557377049181, 0.9606557377049181, 0.9622950819672131, 0.9622950819672131, 0.9655737704918033, 0.9655737704918033, 0.9672131147540983, 0.9672131147540983, 0.9688524590163935, 0.9688524590163935, 0.9704918032786886, 0.9704918032786886, 0.9721311475409836, 0.9721311475409836, 0.9737704918032787, 0.9737704918032787, 0.9754098360655737, 0.9754098360655737, 0.9770491803278688, 0.9770491803278688, 0.978688524590164, 0.978688524590164, 0.980327868852459, 0.980327868852459, 0.9819672131147541, 0.9819672131147541, 0.9836065573770492, 0.9836065573770492, 0.9852459016393442, 0.9852459016393442, 0.9868852459016394, 0.9868852459016394, 0.9885245901639345, 0.9885245901639345, 0.9901639344262295, 0.9901639344262295, 0.9934426229508196, 0.9934426229508196, 0.9950819672131147, 0.9950819672131147, 0.9967213114754099, 0.9967213114754099, 0.9967213114754099, 0.9967213114754099, 1.0, 1.0, 1.0, 1.0], \"yaxis\": \"y2\"}, {\"line\": {\"color\": \"rgb(205, 12, 24)\", \"dash\": \"dot\", \"width\": 2}, \"type\": \"scatter\", \"x\": [0, 1], \"xaxis\": \"x3\", \"y\": [0, 1], \"yaxis\": \"y3\"}],\n",
       "                        {\"annotations\": [{\"font\": {\"size\": 16}, \"showarrow\": false, \"text\": \"Confusion Matrix\", \"x\": 0.225, \"xanchor\": \"center\", \"xref\": \"paper\", \"y\": 1.0, \"yanchor\": \"bottom\", \"yref\": \"paper\"}, {\"font\": {\"size\": 16}, \"showarrow\": false, \"text\": \"Receiver operating characteristic\", \"x\": 0.775, \"xanchor\": \"center\", \"xref\": \"paper\", \"y\": 1.0, \"yanchor\": \"bottom\", \"yref\": \"paper\"}], \"autosize\": false, \"height\": 900, \"margin\": {\"b\": 195}, \"paper_bgcolor\": \"rgba(240,240,240, 0.95)\", \"plot_bgcolor\": \"rgba(240,240,240, 0.95)\", \"showlegend\": false, \"template\": {\"data\": {\"bar\": [{\"error_x\": {\"color\": \"#2a3f5f\"}, \"error_y\": {\"color\": \"#2a3f5f\"}, \"marker\": {\"line\": {\"color\": \"#E5ECF6\", \"width\": 0.5}}, \"type\": \"bar\"}], \"barpolar\": [{\"marker\": {\"line\": {\"color\": \"#E5ECF6\", \"width\": 0.5}}, \"type\": \"barpolar\"}], \"carpet\": [{\"aaxis\": {\"endlinecolor\": \"#2a3f5f\", \"gridcolor\": \"white\", \"linecolor\": \"white\", \"minorgridcolor\": \"white\", \"startlinecolor\": \"#2a3f5f\"}, \"baxis\": {\"endlinecolor\": \"#2a3f5f\", \"gridcolor\": \"white\", \"linecolor\": \"white\", \"minorgridcolor\": \"white\", \"startlinecolor\": \"#2a3f5f\"}, \"type\": \"carpet\"}], \"choropleth\": [{\"colorbar\": {\"outlinewidth\": 0, \"ticks\": \"\"}, \"type\": \"choropleth\"}], \"contour\": [{\"colorbar\": {\"outlinewidth\": 0, \"ticks\": \"\"}, \"colorscale\": [[0.0, \"#0d0887\"], [0.1111111111111111, \"#46039f\"], [0.2222222222222222, \"#7201a8\"], [0.3333333333333333, \"#9c179e\"], [0.4444444444444444, \"#bd3786\"], [0.5555555555555556, \"#d8576b\"], [0.6666666666666666, \"#ed7953\"], [0.7777777777777778, \"#fb9f3a\"], [0.8888888888888888, \"#fdca26\"], [1.0, \"#f0f921\"]], \"type\": \"contour\"}], \"contourcarpet\": [{\"colorbar\": {\"outlinewidth\": 0, \"ticks\": \"\"}, \"type\": \"contourcarpet\"}], \"heatmap\": [{\"colorbar\": {\"outlinewidth\": 0, \"ticks\": \"\"}, \"colorscale\": [[0.0, \"#0d0887\"], [0.1111111111111111, \"#46039f\"], [0.2222222222222222, \"#7201a8\"], [0.3333333333333333, \"#9c179e\"], [0.4444444444444444, \"#bd3786\"], [0.5555555555555556, \"#d8576b\"], [0.6666666666666666, \"#ed7953\"], [0.7777777777777778, \"#fb9f3a\"], [0.8888888888888888, \"#fdca26\"], [1.0, \"#f0f921\"]], \"type\": \"heatmap\"}], \"heatmapgl\": [{\"colorbar\": {\"outlinewidth\": 0, \"ticks\": \"\"}, \"colorscale\": [[0.0, \"#0d0887\"], [0.1111111111111111, \"#46039f\"], [0.2222222222222222, \"#7201a8\"], [0.3333333333333333, \"#9c179e\"], [0.4444444444444444, \"#bd3786\"], [0.5555555555555556, \"#d8576b\"], [0.6666666666666666, \"#ed7953\"], [0.7777777777777778, \"#fb9f3a\"], [0.8888888888888888, \"#fdca26\"], [1.0, \"#f0f921\"]], \"type\": \"heatmapgl\"}], \"histogram\": [{\"marker\": {\"colorbar\": {\"outlinewidth\": 0, \"ticks\": \"\"}}, \"type\": \"histogram\"}], \"histogram2d\": [{\"colorbar\": {\"outlinewidth\": 0, \"ticks\": \"\"}, \"colorscale\": [[0.0, \"#0d0887\"], [0.1111111111111111, \"#46039f\"], [0.2222222222222222, \"#7201a8\"], [0.3333333333333333, \"#9c179e\"], [0.4444444444444444, \"#bd3786\"], [0.5555555555555556, \"#d8576b\"], [0.6666666666666666, \"#ed7953\"], [0.7777777777777778, \"#fb9f3a\"], [0.8888888888888888, \"#fdca26\"], [1.0, \"#f0f921\"]], \"type\": \"histogram2d\"}], \"histogram2dcontour\": [{\"colorbar\": {\"outlinewidth\": 0, \"ticks\": \"\"}, \"colorscale\": [[0.0, \"#0d0887\"], [0.1111111111111111, \"#46039f\"], [0.2222222222222222, \"#7201a8\"], [0.3333333333333333, \"#9c179e\"], [0.4444444444444444, \"#bd3786\"], [0.5555555555555556, \"#d8576b\"], [0.6666666666666666, \"#ed7953\"], [0.7777777777777778, \"#fb9f3a\"], [0.8888888888888888, \"#fdca26\"], [1.0, \"#f0f921\"]], \"type\": \"histogram2dcontour\"}], \"mesh3d\": [{\"colorbar\": {\"outlinewidth\": 0, \"ticks\": \"\"}, \"type\": \"mesh3d\"}], \"parcoords\": [{\"line\": {\"colorbar\": {\"outlinewidth\": 0, \"ticks\": \"\"}}, \"type\": \"parcoords\"}], \"pie\": [{\"automargin\": true, \"type\": \"pie\"}], \"scatter\": [{\"marker\": {\"colorbar\": {\"outlinewidth\": 0, \"ticks\": \"\"}}, \"type\": \"scatter\"}], \"scatter3d\": [{\"line\": {\"colorbar\": {\"outlinewidth\": 0, \"ticks\": \"\"}}, \"marker\": {\"colorbar\": {\"outlinewidth\": 0, \"ticks\": \"\"}}, \"type\": \"scatter3d\"}], \"scattercarpet\": [{\"marker\": {\"colorbar\": {\"outlinewidth\": 0, \"ticks\": \"\"}}, \"type\": \"scattercarpet\"}], \"scattergeo\": [{\"marker\": {\"colorbar\": {\"outlinewidth\": 0, \"ticks\": \"\"}}, \"type\": \"scattergeo\"}], \"scattergl\": [{\"marker\": {\"colorbar\": {\"outlinewidth\": 0, \"ticks\": \"\"}}, \"type\": \"scattergl\"}], \"scattermapbox\": [{\"marker\": {\"colorbar\": {\"outlinewidth\": 0, \"ticks\": \"\"}}, \"type\": \"scattermapbox\"}], \"scatterpolar\": [{\"marker\": {\"colorbar\": {\"outlinewidth\": 0, \"ticks\": \"\"}}, \"type\": \"scatterpolar\"}], \"scatterpolargl\": [{\"marker\": {\"colorbar\": {\"outlinewidth\": 0, \"ticks\": \"\"}}, \"type\": \"scatterpolargl\"}], \"scatterternary\": [{\"marker\": {\"colorbar\": {\"outlinewidth\": 0, \"ticks\": \"\"}}, \"type\": \"scatterternary\"}], \"surface\": [{\"colorbar\": {\"outlinewidth\": 0, \"ticks\": \"\"}, \"colorscale\": [[0.0, \"#0d0887\"], [0.1111111111111111, \"#46039f\"], [0.2222222222222222, \"#7201a8\"], [0.3333333333333333, \"#9c179e\"], [0.4444444444444444, \"#bd3786\"], [0.5555555555555556, \"#d8576b\"], [0.6666666666666666, \"#ed7953\"], [0.7777777777777778, \"#fb9f3a\"], [0.8888888888888888, \"#fdca26\"], [1.0, \"#f0f921\"]], \"type\": \"surface\"}], \"table\": [{\"cells\": {\"fill\": {\"color\": \"#EBF0F8\"}, \"line\": {\"color\": \"white\"}}, \"header\": {\"fill\": {\"color\": \"#C8D4E3\"}, \"line\": {\"color\": \"white\"}}, \"type\": \"table\"}]}, \"layout\": {\"annotationdefaults\": {\"arrowcolor\": \"#2a3f5f\", \"arrowhead\": 0, \"arrowwidth\": 1}, \"coloraxis\": {\"colorbar\": {\"outlinewidth\": 0, \"ticks\": \"\"}}, \"colorscale\": {\"diverging\": [[0, \"#8e0152\"], [0.1, \"#c51b7d\"], [0.2, \"#de77ae\"], [0.3, \"#f1b6da\"], [0.4, \"#fde0ef\"], [0.5, \"#f7f7f7\"], [0.6, \"#e6f5d0\"], [0.7, \"#b8e186\"], [0.8, \"#7fbc41\"], [0.9, \"#4d9221\"], [1, \"#276419\"]], \"sequential\": [[0.0, \"#0d0887\"], [0.1111111111111111, \"#46039f\"], [0.2222222222222222, \"#7201a8\"], [0.3333333333333333, \"#9c179e\"], [0.4444444444444444, \"#bd3786\"], [0.5555555555555556, \"#d8576b\"], [0.6666666666666666, \"#ed7953\"], [0.7777777777777778, \"#fb9f3a\"], [0.8888888888888888, \"#fdca26\"], [1.0, \"#f0f921\"]], \"sequentialminus\": [[0.0, \"#0d0887\"], [0.1111111111111111, \"#46039f\"], [0.2222222222222222, \"#7201a8\"], [0.3333333333333333, \"#9c179e\"], [0.4444444444444444, \"#bd3786\"], [0.5555555555555556, \"#d8576b\"], [0.6666666666666666, \"#ed7953\"], [0.7777777777777778, \"#fb9f3a\"], [0.8888888888888888, \"#fdca26\"], [1.0, \"#f0f921\"]]}, \"colorway\": [\"#636efa\", \"#EF553B\", \"#00cc96\", \"#ab63fa\", \"#FFA15A\", \"#19d3f3\", \"#FF6692\", \"#B6E880\", \"#FF97FF\", \"#FECB52\"], \"font\": {\"color\": \"#2a3f5f\"}, \"geo\": {\"bgcolor\": \"white\", \"lakecolor\": \"white\", \"landcolor\": \"#E5ECF6\", \"showlakes\": true, \"showland\": true, \"subunitcolor\": \"white\"}, \"hoverlabel\": {\"align\": \"left\"}, \"hovermode\": \"closest\", \"mapbox\": {\"style\": \"light\"}, \"paper_bgcolor\": \"white\", \"plot_bgcolor\": \"#E5ECF6\", \"polar\": {\"angularaxis\": {\"gridcolor\": \"white\", \"linecolor\": \"white\", \"ticks\": \"\"}, \"bgcolor\": \"#E5ECF6\", \"radialaxis\": {\"gridcolor\": \"white\", \"linecolor\": \"white\", \"ticks\": \"\"}}, \"scene\": {\"xaxis\": {\"backgroundcolor\": \"#E5ECF6\", \"gridcolor\": \"white\", \"gridwidth\": 2, \"linecolor\": \"white\", \"showbackground\": true, \"ticks\": \"\", \"zerolinecolor\": \"white\"}, \"yaxis\": {\"backgroundcolor\": \"#E5ECF6\", \"gridcolor\": \"white\", \"gridwidth\": 2, \"linecolor\": \"white\", \"showbackground\": true, \"ticks\": \"\", \"zerolinecolor\": \"white\"}, \"zaxis\": {\"backgroundcolor\": \"#E5ECF6\", \"gridcolor\": \"white\", \"gridwidth\": 2, \"linecolor\": \"white\", \"showbackground\": true, \"ticks\": \"\", \"zerolinecolor\": \"white\"}}, \"shapedefaults\": {\"line\": {\"color\": \"#2a3f5f\"}}, \"ternary\": {\"aaxis\": {\"gridcolor\": \"white\", \"linecolor\": \"white\", \"ticks\": \"\"}, \"baxis\": {\"gridcolor\": \"white\", \"linecolor\": \"white\", \"ticks\": \"\"}, \"bgcolor\": \"#E5ECF6\", \"caxis\": {\"gridcolor\": \"white\", \"linecolor\": \"white\", \"ticks\": \"\"}}, \"title\": {\"x\": 0.05}, \"xaxis\": {\"automargin\": true, \"gridcolor\": \"white\", \"linecolor\": \"white\", \"ticks\": \"\", \"title\": {\"standoff\": 15}, \"zerolinecolor\": \"white\", \"zerolinewidth\": 2}, \"yaxis\": {\"automargin\": true, \"gridcolor\": \"white\", \"linecolor\": \"white\", \"ticks\": \"\", \"title\": {\"standoff\": 15}, \"zerolinecolor\": \"white\", \"zerolinewidth\": 2}}}, \"title\": {\"text\": \"Model performance\"}, \"width\": 800, \"xaxis\": {\"anchor\": \"y\", \"domain\": [0.0, 0.45]}, \"xaxis2\": {\"anchor\": \"y2\", \"domain\": [0.55, 1.0], \"title\": {\"text\": \"false positive rate\"}}, \"xaxis3\": {\"anchor\": \"y3\", \"domain\": [0.0, 1.0], \"showgrid\": true, \"tickangle\": 90, \"tickfont\": {\"size\": 10}}, \"yaxis\": {\"anchor\": \"x\", \"domain\": [0.625, 1.0]}, \"yaxis2\": {\"anchor\": \"x2\", \"domain\": [0.625, 1.0], \"title\": {\"text\": \"true positive rate\"}}, \"yaxis3\": {\"anchor\": \"x3\", \"domain\": [0.0, 0.375]}},\n",
       "                        {\"responsive\": true}\n",
       "                    ).then(function(){\n",
       "                            \n",
       "var gd = document.getElementById('8fbf2840-37e6-44a4-b60d-51d046aff310');\n",
       "var x = new MutationObserver(function (mutations, observer) {{\n",
       "        var display = window.getComputedStyle(gd).display;\n",
       "        if (!display || display === 'none') {{\n",
       "            console.log([gd, 'removed!']);\n",
       "            Plotly.purge(gd);\n",
       "            observer.disconnect();\n",
       "        }}\n",
       "}});\n",
       "\n",
       "// Listen for the removal of the full notebook cells\n",
       "var notebookContainer = gd.closest('#notebook-container');\n",
       "if (notebookContainer) {{\n",
       "    x.observe(notebookContainer, {childList: true});\n",
       "}}\n",
       "\n",
       "// Listen for the clearing of the current output cell\n",
       "var outputEl = gd.closest('.output');\n",
       "if (outputEl) {{\n",
       "    x.observe(outputEl, {childList: true});\n",
       "}}\n",
       "\n",
       "                        })\n",
       "                };\n",
       "                });\n",
       "            </script>\n",
       "        </div>"
      ]
     },
     "metadata": {},
     "output_type": "display_data"
    },
    {
     "data": {
      "image/png": "[encoded data removed]",
      "text/plain": [
       "<Figure size 432x288 with 1 Axes>"
      ]
     },
     "metadata": {
      "needs_background": "light"
     },
     "output_type": "display_data"
    }
   ],
   "source": [
    "telecom_churn_prediction(pipeline.steps[1][1], pipeline[0].transform(X_train), y_train,\n",
    "                         X_test,y_test,pipeline.predict(X_test), pipeline.predict_proba(X_test),\n",
    "                         \"coefficients\",threshold_plot = True)"
   ]
  },
  {
   "cell_type": "markdown",
   "metadata": {},
   "source": [
    "### Сохраним наш пайплайн"
   ]
  },
  {
   "cell_type": "code",
   "execution_count": 36,
   "metadata": {},
   "outputs": [
    {
     "data": {
      "text/plain": [
       "array([0., 0., 0., ..., 1., 0., 1.])"
      ]
     },
     "execution_count": 36,
     "metadata": {},
     "output_type": "execute_result"
    }
   ],
   "source": [
    "pipeline.steps[0][1].transform(X_train)[:, 10]"
   ]
  },
  {
   "cell_type": "code",
   "execution_count": 37,
   "metadata": {},
   "outputs": [],
   "source": [
    "import dill"
   ]
  },
  {
   "cell_type": "code",
   "execution_count": 38,
   "metadata": {},
   "outputs": [],
   "source": [
    "with open(\"model_trained_XGB.dill\", \"wb\") as f:\n",
    "    dill.dump(pipeline, f)"
   ]
  },
  {
   "cell_type": "markdown",
   "metadata": {},
   "source": [
    "### Домашнее задание\n",
    "\n",
    "\n",
    "1. Скачать любой понравившийся вам датасет с UCI repository(можете даже свой какой-то взять) и сразу же разделите его на тренировочную и тестовую выборки. Тестовую выборку сохраните на диск и больше не трогайте. \n",
    "2. Провести EDA (exploratory data analysis: histograms, boxplots - visualization, etc). Например\n",
    "3. Сделать feature engineering. При этом постарайтесь «завернуть» ваш код для преобразования данных в классы или функции (пример Transformer как в ноутбуке). \n",
    "4. Обучить базовую модель (любую - на ваш выбор). При этом нужно использовать cross validation\n",
    "5. Посчитайте разные метрики качества на cross-validation, отрисуйте графики (roc auc)\n",
    "6. Сделать подбор гиперпараметров с помощью той же самой cross-validation. \n",
    "7. Сохраните вашу модель на диск\n",
    "8. [в отдельном ноутбуке!] Загрузите ваш отложенный на шаге 1 датасет и сохраненные ранее файлы и сделайте прогноз моделью. \n",
    "9. Посчитайте метрики качества и сделайте выводы о том, насколько прогнозы (качество) на «новых» данных отличаются от того, что вы видели на cross-validation. Если будут очень серьезные отличия, то подумайте, где вы ошиблись и как это можно поправить.\n",
    "10. Бонусный вопрос: у вас есть на выбор два варианта разделения вашего исходного датасета - на train/test и на train/test/val. Подумайте, в каких ситуациях предпочтительнее один или второй вариант либо всегда лучше какой-то один? Какой бы выбрали вы?"
   ]
  },
  {
   "cell_type": "code",
   "execution_count": null,
   "metadata": {},
   "outputs": [],
   "source": []
  },
  {
   "cell_type": "code",
   "execution_count": null,
   "metadata": {},
   "outputs": [],
   "source": []
  },
  {
   "cell_type": "markdown",
   "metadata": {},
   "source": [
    "## ПЕРЕРЫВ ДО 21:00"
   ]
  },
  {
   "cell_type": "code",
   "execution_count": null,
   "metadata": {},
   "outputs": [],
   "source": []
  },
  {
   "cell_type": "code",
   "execution_count": null,
   "metadata": {},
   "outputs": [],
   "source": []
  },
  {
   "cell_type": "code",
   "execution_count": null,
   "metadata": {},
   "outputs": [],
   "source": []
  },
  {
   "cell_type": "code",
   "execution_count": null,
   "metadata": {},
   "outputs": [],
   "source": []
  },
  {
   "cell_type": "code",
   "execution_count": null,
   "metadata": {},
   "outputs": [],
   "source": []
  },
  {
   "cell_type": "code",
   "execution_count": null,
   "metadata": {},
   "outputs": [],
   "source": []
  },
  {
   "cell_type": "code",
   "execution_count": null,
   "metadata": {},
   "outputs": [],
   "source": []
  }
 ],
 "metadata": {
  "kernelspec": {
   "display_name": "Python 3",
   "language": "python",
   "name": "python3"
  },
  "language_info": {
   "codemirror_mode": {
    "name": "ipython",
    "version": 3
   },
   "file_extension": ".py",
   "mimetype": "text/x-python",
   "name": "python",
   "nbconvert_exporter": "python",
   "pygments_lexer": "ipython3",
   "version": "3.7.4"
  }
 },
 "nbformat": 4,
 "nbformat_minor": 2
}
